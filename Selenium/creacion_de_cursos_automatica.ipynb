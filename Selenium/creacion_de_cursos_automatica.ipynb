{
 "cells": [
  {
   "cell_type": "code",
   "execution_count": 3,
   "id": "adb47188",
   "metadata": {},
   "outputs": [],
   "source": [
    "from selenium import webdriver\n",
    "import pandas as pd\n",
    "import xlwt\n",
    "import time\n",
    "import csv"
   ]
  },
  {
   "cell_type": "code",
   "execution_count": 187,
   "id": "d7b33cdc",
   "metadata": {},
   "outputs": [],
   "source": [
    "#driver.find_element_by_xpath('').send_keys()\n",
    "#driver.find_element_by_xpath('').click()"
   ]
  },
  {
   "cell_type": "code",
   "execution_count": 71,
   "id": "8149ac54",
   "metadata": {},
   "outputs": [
    {
     "name": "stderr",
     "output_type": "stream",
     "text": [
      "C:\\Users\\jonat\\AppData\\Local\\Temp\\ipykernel_12864\\1602973592.py:1: DeprecationWarning: executable_path has been deprecated, please pass in a Service object\n",
      "  driver = webdriver.Chrome('webdriver//chromedriver.exe')\n"
     ]
    }
   ],
   "source": [
    "driver = webdriver.Chrome('webdriver//chromedriver.exe')"
   ]
  },
  {
   "cell_type": "markdown",
   "id": "a1bf994c",
   "metadata": {},
   "source": [
    "# Creación cursos CODE"
   ]
  },
  {
   "cell_type": "code",
   "execution_count": 189,
   "id": "fd9ae018",
   "metadata": {},
   "outputs": [],
   "source": [
    "#login CODE\n",
    "driver.get('https://studio.code.org/home')\n",
    "password = \"\"\n",
    "email = \"\"\n",
    "driver.find_element_by_xpath('//*[@id=\"user_login\"]').send_keys(email)\n",
    "driver.find_element_by_xpath('//*[@id=\"user_password\"]').send_keys(password)\n",
    "driver.find_element_by_xpath('//*[@id=\"signin-button\"]').click()"
   ]
  },
  {
   "cell_type": "code",
   "execution_count": 184,
   "id": "e3f125db",
   "metadata": {},
   "outputs": [],
   "source": [
    "#ejecución creacion cursos CODE\n",
    "df = pd.read_excel('codigo_cursos.xls')\n",
    "resultados_CODE= open(\"codigosCode.txt\",\"w+\")\n",
    "resultados_CODE.write(\"EE,Codigo Code \\r\")\n",
    "for i in range (1,df.shape[0]):\n",
    "    select = df.iat[i,0]\n",
    "    curso = select[0:-1]\n",
    "    #create section\n",
    "    driver.find_element_by_xpath('//*[@id=\"classroom-sections\"]/div[1]/div[2]/div[1]/div/button').click()\n",
    "    driver.find_element_by_xpath('//*[@id=\"classroom-sections\"]/div[4]/div[2]/div/div/div/h1').click()\n",
    "    #type of student login\n",
    "    driver.find_element_by_xpath('//*[@id=\"classroom-sections\"]/div[4]/div[2]/div/div/div/div[1]/div[1]/div[3]').click()\n",
    "    #section name \n",
    "    driver.find_element_by_xpath('//*[@id=\"uitest-section-name\"]').send_keys(curso)\n",
    "    #grade\n",
    "    driver.find_element_by_xpath('//*[@id=\"classroom-sections\"]/div[4]/div[2]/div/div/div/div[1]/div[2]/select').click()\n",
    "    #grade selection\n",
    "    driver.find_element_by_xpath('//*[@id=\"classroom-sections\"]/div[4]/div[2]/div/div/div/div[1]/div[2]/select/option[13]').click()\n",
    "    #course\n",
    "    driver.find_element_by_xpath('//*[@id=\"uitest-assignment-family\"]').click()\n",
    "    driver.find_element_by_xpath('//*[@id=\"uitest-assignment-family\"]/optgroup[2]/option[4]').click()\n",
    "    #save\n",
    "    driver.find_element_by_xpath('//*[@id=\"classroom-sections\"]/div[4]/div[2]/div/div/div/div[2]/div[2]/div/div[2]').click()\n",
    "    time.sleep(3)\n",
    "    elem = driver.find_element_by_xpath('//*[@id=\"classroom-sections\"]/div[2]/div[2]/div/div/div/table/tbody/tr[1]/td[6]/a')\n",
    "    resultados.write( curso+\",\"+elem.text+\"\\r\")\n",
    "resultados.close()"
   ]
  },
  {
   "cell_type": "markdown",
   "id": "f68da3e8",
   "metadata": {},
   "source": [
    "# Creación cursos Khan Academy"
   ]
  },
  {
   "cell_type": "code",
   "execution_count": 192,
   "id": "57967e4f",
   "metadata": {},
   "outputs": [],
   "source": [
    "#Login Khan Academy\n",
    "driver.get('https://es.khanacademy.org/login')\n",
    "password = \"\"\n",
    "email = \"\"\n",
    "driver.find_element_by_xpath('//*[@id=\"uid-login-form-0-wb-id-identifier-field\"]').send_keys(email)\n",
    "driver.find_element_by_xpath('//*[@id=\"uid-labeled-text-field-1-wb-id-field\"]').send_keys(password)\n",
    "driver.find_element_by_xpath('//*[@id=\"app-shell-root\"]/div/div[3]/div/div[3]/section[2]/div/div/form/button').click()"
   ]
  },
  {
   "cell_type": "code",
   "execution_count": 193,
   "id": "179b0dd9",
   "metadata": {},
   "outputs": [],
   "source": [
    "driver.find_element_by_xpath('//*[@id=\"app-shell-root\"]/div/div[4]/div/div[3]/div[2]/div[1]/div[1]/div').click()\n"
   ]
  },
  {
   "cell_type": "code",
   "execution_count": 205,
   "id": "6ca590a3",
   "metadata": {},
   "outputs": [],
   "source": [
    "driver.find_element_by_xpath('//*[@id=\"uid-labeled-text-field-15-wb-id-field\"]').send_keys(\"test\")\n",
    "driver.find_element_by_xpath('//*[@id=\"app-shell-root\"]/div/div[4]/div/div[3]/div[2]/div[1]/div[1]/div/div/div[1]/div/div[2]/div[3]/div[2]/button').click()"
   ]
  },
  {
   "cell_type": "code",
   "execution_count": 207,
   "id": "6fa0fd96",
   "metadata": {},
   "outputs": [],
   "source": [
    "driver.find_element_by_class_name('//*[@id=\"app-shell-root\"]/div/div[4]/div/div[3]/div[2]/div[1]/div[1]/div/div/div[1]/div/div[2]/div[3]/div[2]/button').click()"
   ]
  },
  {
   "cell_type": "code",
   "execution_count": 226,
   "id": "ab8cc42d",
   "metadata": {},
   "outputs": [
    {
     "ename": "KeyboardInterrupt",
     "evalue": "",
     "output_type": "error",
     "traceback": [
      "\u001b[1;31m---------------------------------------------------------------------------\u001b[0m",
      "\u001b[1;31mKeyboardInterrupt\u001b[0m                         Traceback (most recent call last)",
      "\u001b[1;32m~\\AppData\\Local\\Temp/ipykernel_13176/1534556224.py\u001b[0m in \u001b[0;36m<module>\u001b[1;34m\u001b[0m\n\u001b[0;32m     16\u001b[0m     \u001b[0mtime\u001b[0m\u001b[1;33m.\u001b[0m\u001b[0msleep\u001b[0m\u001b[1;33m(\u001b[0m\u001b[1;36m3\u001b[0m\u001b[1;33m)\u001b[0m\u001b[1;33m\u001b[0m\u001b[1;33m\u001b[0m\u001b[0m\n\u001b[0;32m     17\u001b[0m     \u001b[0mdriver\u001b[0m\u001b[1;33m.\u001b[0m\u001b[0mfind_element_by_xpath\u001b[0m\u001b[1;33m(\u001b[0m\u001b[1;34m'//*[@id=\"app-shell-root\"]/div/div[4]/div/div[3]/div[2]/div[1]/div[1]/div/div/div[1]/div/div[2]/div[3]/div[2]/button'\u001b[0m\u001b[1;33m)\u001b[0m\u001b[1;33m.\u001b[0m\u001b[0mclick\u001b[0m\u001b[1;33m(\u001b[0m\u001b[1;33m)\u001b[0m\u001b[1;33m\u001b[0m\u001b[1;33m\u001b[0m\u001b[0m\n\u001b[1;32m---> 18\u001b[1;33m     \u001b[0mtime\u001b[0m\u001b[1;33m.\u001b[0m\u001b[0msleep\u001b[0m\u001b[1;33m(\u001b[0m\u001b[1;36m3\u001b[0m\u001b[1;33m)\u001b[0m\u001b[1;33m\u001b[0m\u001b[1;33m\u001b[0m\u001b[0m\n\u001b[0m\u001b[0;32m     19\u001b[0m     \u001b[0mdriver\u001b[0m\u001b[1;33m.\u001b[0m\u001b[0mfind_element_by_xpath\u001b[0m\u001b[1;33m(\u001b[0m\u001b[1;34m'//*[@id=\"app-shell-root\"]/div/div[4]/div/div[3]/div[2]/div[1]/div[1]/div/div/div[1]/div/div[2]/div[3]/div[2]/button[1]'\u001b[0m\u001b[1;33m)\u001b[0m\u001b[1;33m.\u001b[0m\u001b[0mclick\u001b[0m\u001b[1;33m(\u001b[0m\u001b[1;33m)\u001b[0m\u001b[1;33m\u001b[0m\u001b[1;33m\u001b[0m\u001b[0m\n\u001b[0;32m     20\u001b[0m     \u001b[0mtime\u001b[0m\u001b[1;33m.\u001b[0m\u001b[0msleep\u001b[0m\u001b[1;33m(\u001b[0m\u001b[1;36m10\u001b[0m\u001b[1;33m)\u001b[0m\u001b[1;33m\u001b[0m\u001b[1;33m\u001b[0m\u001b[0m\n",
      "\u001b[1;31mKeyboardInterrupt\u001b[0m: "
     ]
    }
   ],
   "source": [
    "#ejecucion creacion cursos KHAN ACADEMY\n",
    "df = pd.read_excel('codigo_cursos.xls')\n",
    "resultados_KhanAcademy= open(\"codigosKhan.txt\",\"w+\")\n",
    "resultados_KhanAcademy.write(\"EE,Codigo KhanAcademy \\r\")\n",
    "for i in range (5,df.shape[0]):\n",
    "    select = df.iat[i,0]\n",
    "    curso = select[0:-1]\n",
    "    time.sleep(3)\n",
    "    driver.find_element_by_xpath('//*[@id=\"app-shell-root\"]/div/div[4]/div/div[3]/div[2]/div[1]/div[1]/div').click()\n",
    "    time.sleep(3)\n",
    "    driver.find_element_by_xpath('/html/body/div/div[3]/div/div[2]/div/div/div[4]/div/div[3]/div[2]/div[1]/div[1]/div/div/div[1]/div/div[2]/div[2]/div/div/div/div[1]/div/div/div[2]/input').send_keys(curso)\n",
    "    time.sleep(3)\n",
    "    driver.find_element_by_xpath('//*[@id=\"app-shell-root\"]/div/div[4]/div/div[3]/div[2]/div[1]/div[1]/div/div/div[1]/div/div[2]/div[3]/div[2]/button').click()\n",
    "    time.sleep(3)\n",
    "    driver.find_element_by_xpath('//*[@id=\"app-shell-root\"]/div/div[4]/div/div[3]/div[2]/div[1]/div[1]/div/div/div[1]/div/div[2]/div[3]/div[2]/button[1]').click()\n",
    "    time.sleep(3)\n",
    "    driver.find_element_by_xpath('//*[@id=\"app-shell-root\"]/div/div[4]/div/div[3]/div[2]/div[1]/div[1]/div/div/div[1]/div/div[2]/div[3]/div[2]/button').click()\n",
    "    time.sleep(3)\n",
    "    driver.find_element_by_xpath('//*[@id=\"app-shell-root\"]/div/div[4]/div/div[3]/div[2]/div[1]/div[1]/div/div/div[1]/div/div[2]/div[3]/div[2]/button[1]').click()\n",
    "    time.sleep(10)\n",
    "    elem = driver.find_element_by_xpath('//*[@id=\"class-shell\"]/div/div[2]/div[2]/div[2]/div[1]/h4')\n",
    "    resultados_KhanAcademy.write( curso+\",\"+elem.text+\"\\r\")\n",
    "    driver.get('https://es.khanacademy.org/teacher/dashboard')\n",
    "    time.sleep(2)"
   ]
  },
  {
   "cell_type": "code",
   "execution_count": 227,
   "id": "e586d76d",
   "metadata": {},
   "outputs": [],
   "source": [
    "#transformación de códigos en excel\n",
    "def txt_xls(filename,xlsname):\n",
    "    try:\n",
    "        f = open(filename) \n",
    "        xls=xlwt.Workbook()\n",
    "                 # Método para generar Excel, declarar Excel\n",
    "        sheet = xls.add_sheet('sheet1',cell_overwrite_ok=True) \n",
    "        x = 0 \n",
    "        while True:\n",
    "                         # Ciclo por línea, leer archivo de texto\n",
    "            line = f.readline() \n",
    "            if not line: \n",
    "                break; #Si no hay contenido, salga del bucle\n",
    "            for i in range(len(line.split(','))):\n",
    "                item=line.split(',')[i]\n",
    "                sheet.write (x, i, item) #x longitud de celda, i latitud de celda\n",
    "            x = x + 1 #excel comienza una nueva línea\n",
    "        f.close()\n",
    "        xls.save (xlsname) #Guardar archivo xls\n",
    "    except:\n",
    "        raise"
   ]
  },
  {
   "cell_type": "code",
   "execution_count": 229,
   "id": "c19a25c4",
   "metadata": {},
   "outputs": [],
   "source": [
    "#txt_xls(\"codigosCODE.txt\",\"codigos_CODE_cursos_resultado.xls\")\n",
    "txt_xls(\"codigosKhan.txt\",\"codigos_KHAN_cursos_resultado.xls\")"
   ]
  },
  {
   "cell_type": "code",
   "execution_count": 173,
   "id": "aaedac8d",
   "metadata": {},
   "outputs": [],
   "source": [
    "#create section\n",
    "driver.find_element_by_xpath('//*[@id=\"classroom-sections\"]/div[1]/div[2]/div[1]/div/button').click()\n",
    "driver.find_element_by_xpath('//*[@id=\"classroom-sections\"]/div[4]/div[2]/div/div/div/h1').click()\n",
    "#type of student login\n",
    "driver.find_element_by_xpath('//*[@id=\"classroom-sections\"]/div[4]/div[2]/div/div/div/div[1]/div[1]/div[3]').click()"
   ]
  },
  {
   "cell_type": "code",
   "execution_count": 174,
   "id": "d61b0470",
   "metadata": {},
   "outputs": [
    {
     "ename": "AttributeError",
     "evalue": "'WebDriver' object has no attribute 'manage'",
     "output_type": "error",
     "traceback": [
      "\u001b[1;31m---------------------------------------------------------------------------\u001b[0m",
      "\u001b[1;31mAttributeError\u001b[0m                            Traceback (most recent call last)",
      "\u001b[1;32m~\\AppData\\Local\\Temp/ipykernel_13176/2525862747.py\u001b[0m in \u001b[0;36m<module>\u001b[1;34m\u001b[0m\n\u001b[0;32m      8\u001b[0m \u001b[0mdriver\u001b[0m\u001b[1;33m.\u001b[0m\u001b[0mfind_element_by_xpath\u001b[0m\u001b[1;33m(\u001b[0m\u001b[1;34m'//*[@id=\"uitest-assignment-family\"]'\u001b[0m\u001b[1;33m)\u001b[0m\u001b[1;33m.\u001b[0m\u001b[0mclick\u001b[0m\u001b[1;33m(\u001b[0m\u001b[1;33m)\u001b[0m\u001b[1;33m\u001b[0m\u001b[1;33m\u001b[0m\u001b[0m\n\u001b[0;32m      9\u001b[0m \u001b[0mdriver\u001b[0m\u001b[1;33m.\u001b[0m\u001b[0mfind_element_by_xpath\u001b[0m\u001b[1;33m(\u001b[0m\u001b[1;34m'//*[@id=\"uitest-assignment-family\"]/optgroup[2]/option[4]'\u001b[0m\u001b[1;33m)\u001b[0m\u001b[1;33m.\u001b[0m\u001b[0mclick\u001b[0m\u001b[1;33m(\u001b[0m\u001b[1;33m)\u001b[0m\u001b[1;33m\u001b[0m\u001b[1;33m\u001b[0m\u001b[0m\n\u001b[1;32m---> 10\u001b[1;33m \u001b[0mdriver\u001b[0m\u001b[1;33m.\u001b[0m\u001b[0mmanage\u001b[0m\u001b[1;33m(\u001b[0m\u001b[1;33m)\u001b[0m\u001b[1;33m.\u001b[0m\u001b[0mtimeouts\u001b[0m\u001b[1;33m(\u001b[0m\u001b[1;33m)\u001b[0m\u001b[1;33m.\u001b[0m\u001b[0mimplicitlyWait\u001b[0m\u001b[1;33m(\u001b[0m\u001b[1;36m3\u001b[0m\u001b[1;33m,\u001b[0m \u001b[0mTimeUnit\u001b[0m\u001b[1;33m.\u001b[0m\u001b[0mSECONDS\u001b[0m\u001b[1;33m)\u001b[0m\u001b[1;33m;\u001b[0m\u001b[1;33m\u001b[0m\u001b[1;33m\u001b[0m\u001b[0m\n\u001b[0m\u001b[0;32m     11\u001b[0m \u001b[1;31m#save\u001b[0m\u001b[1;33m\u001b[0m\u001b[1;33m\u001b[0m\u001b[0m\n\u001b[0;32m     12\u001b[0m \u001b[0mdriver\u001b[0m\u001b[1;33m.\u001b[0m\u001b[0mfind_element_by_xpath\u001b[0m\u001b[1;33m(\u001b[0m\u001b[1;34m'//*[@id=\"classroom-sections\"]/div[4]/div[2]/div/div/div/div[2]/div[2]/div/div[2]'\u001b[0m\u001b[1;33m)\u001b[0m\u001b[1;33m.\u001b[0m\u001b[0mclick\u001b[0m\u001b[1;33m(\u001b[0m\u001b[1;33m)\u001b[0m\u001b[1;33m\u001b[0m\u001b[1;33m\u001b[0m\u001b[0m\n",
      "\u001b[1;31mAttributeError\u001b[0m: 'WebDriver' object has no attribute 'manage'"
     ]
    }
   ],
   "source": [
    "#section name \n",
    "driver.find_element_by_xpath('//*[@id=\"uitest-section-name\"]').send_keys(\"LBGM3B\")\n",
    "#grade\n",
    "driver.find_element_by_xpath('//*[@id=\"classroom-sections\"]/div[4]/div[2]/div/div/div/div[1]/div[2]/select').click()\n",
    "#grade selection\n",
    "driver.find_element_by_xpath('//*[@id=\"classroom-sections\"]/div[4]/div[2]/div/div/div/div[1]/div[2]/select/option[13]').click()\n",
    "#course\n",
    "driver.find_element_by_xpath('//*[@id=\"uitest-assignment-family\"]').click()\n",
    "driver.find_element_by_xpath('//*[@id=\"uitest-assignment-family\"]/optgroup[2]/option[4]').click()\n",
    "driver.manage().timeouts().implicitlyWait(3, TimeUnit.SECONDS);\n",
    "#save\n",
    "driver.find_element_by_xpath('//*[@id=\"classroom-sections\"]/div[4]/div[2]/div/div/div/div[2]/div[2]/div/div[2]').click()"
   ]
  },
  {
   "cell_type": "markdown",
   "id": "65abaa1e",
   "metadata": {},
   "source": [
    "# Khan Academy -Estadisticas asociadas"
   ]
  },
  {
   "cell_type": "code",
   "execution_count": 47,
   "id": "ccbfe88d",
   "metadata": {},
   "outputs": [
    {
     "data": {
      "text/html": [
       "<div>\n",
       "<style scoped>\n",
       "    .dataframe tbody tr th:only-of-type {\n",
       "        vertical-align: middle;\n",
       "    }\n",
       "\n",
       "    .dataframe tbody tr th {\n",
       "        vertical-align: top;\n",
       "    }\n",
       "\n",
       "    .dataframe thead th {\n",
       "        text-align: right;\n",
       "    }\n",
       "</style>\n",
       "<table border=\"1\" class=\"dataframe\">\n",
       "  <thead>\n",
       "    <tr style=\"text-align: right;\">\n",
       "      <th></th>\n",
       "      <th>Código Escuela</th>\n",
       "      <th>Fecha Script</th>\n",
       "      <th>Intervalo</th>\n",
       "      <th>Suma minutos</th>\n",
       "      <th>Skills Mejoradas</th>\n",
       "      <th>Progreso y habilidades</th>\n",
       "    </tr>\n",
       "  </thead>\n",
       "  <tbody>\n",
       "  </tbody>\n",
       "</table>\n",
       "</div>"
      ],
      "text/plain": [
       "Empty DataFrame\n",
       "Columns: [Código Escuela, Fecha Script, Intervalo, Suma minutos, Skills Mejoradas, Progreso y habilidades]\n",
       "Index: []"
      ]
     },
     "execution_count": 47,
     "metadata": {},
     "output_type": "execute_result"
    }
   ],
   "source": [
    "#dataframe estadisticas\n",
    "columnas = ['Código Escuela','Fecha Script','Intervalo','Suma minutos','Skills Mejoradas','Progreso y habilidades']\n",
    "df = pd.DataFrame(columns=columnas)\n",
    "df"
   ]
  },
  {
   "cell_type": "code",
   "execution_count": 67,
   "id": "fd59563c",
   "metadata": {},
   "outputs": [],
   "source": [
    "tab = table.split(\"\\n\")\n",
    "columnas = [tab[0],tab[1],tab[2],tab[3]]\n",
    "df3 = pd.DataFrame(columns = columnas)\n",
    "output=[tab[i:i + 4] for i in range(4, len(tab), 4)]\n",
    "for j in range (0,len(output)):\n",
    "    df3.loc[j] = output[j]"
   ]
  },
  {
   "cell_type": "code",
   "execution_count": 69,
   "id": "c319baee",
   "metadata": {},
   "outputs": [
    {
     "data": {
      "text/html": [
       "<div>\n",
       "<style scoped>\n",
       "    .dataframe tbody tr th:only-of-type {\n",
       "        vertical-align: middle;\n",
       "    }\n",
       "\n",
       "    .dataframe tbody tr th {\n",
       "        vertical-align: top;\n",
       "    }\n",
       "\n",
       "    .dataframe thead th {\n",
       "        text-align: right;\n",
       "    }\n",
       "</style>\n",
       "<table border=\"1\" class=\"dataframe\">\n",
       "  <thead>\n",
       "    <tr style=\"text-align: right;\">\n",
       "      <th></th>\n",
       "      <th>STUDENT</th>\n",
       "      <th>TOTAL LEARNING MINUTES</th>\n",
       "      <th>SKILLS LEVELED UP</th>\n",
       "      <th>SKILLS W/O PROGRESS</th>\n",
       "    </tr>\n",
       "  </thead>\n",
       "  <tbody>\n",
       "    <tr>\n",
       "      <th>0</th>\n",
       "      <td>agustinaguayoe</td>\n",
       "      <td>16</td>\n",
       "      <td>0</td>\n",
       "      <td>0</td>\n",
       "    </tr>\n",
       "    <tr>\n",
       "      <th>1</th>\n",
       "      <td>amandasuazor</td>\n",
       "      <td>15</td>\n",
       "      <td>0</td>\n",
       "      <td>0</td>\n",
       "    </tr>\n",
       "    <tr>\n",
       "      <th>2</th>\n",
       "      <td>conzuelolopezc</td>\n",
       "      <td>17</td>\n",
       "      <td>0</td>\n",
       "      <td>0</td>\n",
       "    </tr>\n",
       "    <tr>\n",
       "      <th>3</th>\n",
       "      <td>edinsonneguimanr</td>\n",
       "      <td>16</td>\n",
       "      <td>0</td>\n",
       "      <td>1</td>\n",
       "    </tr>\n",
       "    <tr>\n",
       "      <th>4</th>\n",
       "      <td>hernanepuyados</td>\n",
       "      <td>16</td>\n",
       "      <td>0</td>\n",
       "      <td>0</td>\n",
       "    </tr>\n",
       "    <tr>\n",
       "      <th>5</th>\n",
       "      <td>iliaaedoc</td>\n",
       "      <td>15</td>\n",
       "      <td>0</td>\n",
       "      <td>0</td>\n",
       "    </tr>\n",
       "    <tr>\n",
       "      <th>6</th>\n",
       "      <td>javiertapias</td>\n",
       "      <td>17</td>\n",
       "      <td>0</td>\n",
       "      <td>0</td>\n",
       "    </tr>\n",
       "    <tr>\n",
       "      <th>7</th>\n",
       "      <td>jeanhuenchunira</td>\n",
       "      <td>3</td>\n",
       "      <td>0</td>\n",
       "      <td>0</td>\n",
       "    </tr>\n",
       "    <tr>\n",
       "      <th>8</th>\n",
       "      <td>jeansubiabrev</td>\n",
       "      <td>17</td>\n",
       "      <td>0</td>\n",
       "      <td>0</td>\n",
       "    </tr>\n",
       "    <tr>\n",
       "      <th>9</th>\n",
       "      <td>marcohonoraton</td>\n",
       "      <td>14</td>\n",
       "      <td>0</td>\n",
       "      <td>0</td>\n",
       "    </tr>\n",
       "    <tr>\n",
       "      <th>10</th>\n",
       "      <td>mariamolinad</td>\n",
       "      <td>12</td>\n",
       "      <td>0</td>\n",
       "      <td>0</td>\n",
       "    </tr>\n",
       "    <tr>\n",
       "      <th>11</th>\n",
       "      <td>nicolassanchezr</td>\n",
       "      <td>17</td>\n",
       "      <td>0</td>\n",
       "      <td>0</td>\n",
       "    </tr>\n",
       "    <tr>\n",
       "      <th>12</th>\n",
       "      <td>valentinaperezg</td>\n",
       "      <td>15</td>\n",
       "      <td>0</td>\n",
       "      <td>0</td>\n",
       "    </tr>\n",
       "    <tr>\n",
       "      <th>13</th>\n",
       "      <td>violetabarrazap</td>\n",
       "      <td>14</td>\n",
       "      <td>0</td>\n",
       "      <td>0</td>\n",
       "    </tr>\n",
       "    <tr>\n",
       "      <th>14</th>\n",
       "      <td>yordanuribea</td>\n",
       "      <td>5</td>\n",
       "      <td>0</td>\n",
       "      <td>0</td>\n",
       "    </tr>\n",
       "  </tbody>\n",
       "</table>\n",
       "</div>"
      ],
      "text/plain": [
       "             STUDENT TOTAL LEARNING MINUTES SKILLS LEVELED UP  \\\n",
       "0     agustinaguayoe                     16                 0   \n",
       "1       amandasuazor                     15                 0   \n",
       "2     conzuelolopezc                     17                 0   \n",
       "3   edinsonneguimanr                     16                 0   \n",
       "4     hernanepuyados                     16                 0   \n",
       "5          iliaaedoc                     15                 0   \n",
       "6       javiertapias                     17                 0   \n",
       "7    jeanhuenchunira                      3                 0   \n",
       "8      jeansubiabrev                     17                 0   \n",
       "9     marcohonoraton                     14                 0   \n",
       "10      mariamolinad                     12                 0   \n",
       "11   nicolassanchezr                     17                 0   \n",
       "12   valentinaperezg                     15                 0   \n",
       "13   violetabarrazap                     14                 0   \n",
       "14      yordanuribea                      5                 0   \n",
       "\n",
       "   SKILLS W/O PROGRESS  \n",
       "0                    0  \n",
       "1                    0  \n",
       "2                    0  \n",
       "3                    1  \n",
       "4                    0  \n",
       "5                    0  \n",
       "6                    0  \n",
       "7                    0  \n",
       "8                    0  \n",
       "9                    0  \n",
       "10                   0  \n",
       "11                   0  \n",
       "12                   0  \n",
       "13                   0  \n",
       "14                   0  "
      ]
     },
     "execution_count": 69,
     "metadata": {},
     "output_type": "execute_result"
    }
   ],
   "source": [
    "df3"
   ]
  },
  {
   "cell_type": "code",
   "execution_count": 70,
   "id": "0b7eba4f",
   "metadata": {},
   "outputs": [
    {
     "data": {
      "text/html": [
       "<div>\n",
       "<style scoped>\n",
       "    .dataframe tbody tr th:only-of-type {\n",
       "        vertical-align: middle;\n",
       "    }\n",
       "\n",
       "    .dataframe tbody tr th {\n",
       "        vertical-align: top;\n",
       "    }\n",
       "\n",
       "    .dataframe thead th {\n",
       "        text-align: right;\n",
       "    }\n",
       "</style>\n",
       "<table border=\"1\" class=\"dataframe\">\n",
       "  <thead>\n",
       "    <tr style=\"text-align: right;\">\n",
       "      <th></th>\n",
       "      <th>STUDENT</th>\n",
       "      <th>TOTAL LEARNING MINUTES</th>\n",
       "      <th>SKILLS LEVELED UP</th>\n",
       "      <th>SKILLS W/O PROGRESS</th>\n",
       "    </tr>\n",
       "  </thead>\n",
       "  <tbody>\n",
       "    <tr>\n",
       "      <th>0</th>\n",
       "      <td>agustinaguayoe</td>\n",
       "      <td>16</td>\n",
       "      <td>0</td>\n",
       "      <td>0</td>\n",
       "    </tr>\n",
       "    <tr>\n",
       "      <th>1</th>\n",
       "      <td>amandasuazor</td>\n",
       "      <td>15</td>\n",
       "      <td>0</td>\n",
       "      <td>0</td>\n",
       "    </tr>\n",
       "    <tr>\n",
       "      <th>2</th>\n",
       "      <td>conzuelolopezc</td>\n",
       "      <td>17</td>\n",
       "      <td>0</td>\n",
       "      <td>0</td>\n",
       "    </tr>\n",
       "    <tr>\n",
       "      <th>3</th>\n",
       "      <td>edinsonneguimanr</td>\n",
       "      <td>16</td>\n",
       "      <td>0</td>\n",
       "      <td>1</td>\n",
       "    </tr>\n",
       "    <tr>\n",
       "      <th>4</th>\n",
       "      <td>hernanepuyados</td>\n",
       "      <td>16</td>\n",
       "      <td>0</td>\n",
       "      <td>0</td>\n",
       "    </tr>\n",
       "    <tr>\n",
       "      <th>5</th>\n",
       "      <td>iliaaedoc</td>\n",
       "      <td>15</td>\n",
       "      <td>0</td>\n",
       "      <td>0</td>\n",
       "    </tr>\n",
       "    <tr>\n",
       "      <th>6</th>\n",
       "      <td>javiertapias</td>\n",
       "      <td>17</td>\n",
       "      <td>0</td>\n",
       "      <td>0</td>\n",
       "    </tr>\n",
       "    <tr>\n",
       "      <th>7</th>\n",
       "      <td>jeanhuenchunira</td>\n",
       "      <td>3</td>\n",
       "      <td>0</td>\n",
       "      <td>0</td>\n",
       "    </tr>\n",
       "    <tr>\n",
       "      <th>8</th>\n",
       "      <td>jeansubiabrev</td>\n",
       "      <td>17</td>\n",
       "      <td>0</td>\n",
       "      <td>0</td>\n",
       "    </tr>\n",
       "    <tr>\n",
       "      <th>9</th>\n",
       "      <td>marcohonoraton</td>\n",
       "      <td>14</td>\n",
       "      <td>0</td>\n",
       "      <td>0</td>\n",
       "    </tr>\n",
       "    <tr>\n",
       "      <th>10</th>\n",
       "      <td>mariamolinad</td>\n",
       "      <td>12</td>\n",
       "      <td>0</td>\n",
       "      <td>0</td>\n",
       "    </tr>\n",
       "    <tr>\n",
       "      <th>11</th>\n",
       "      <td>nicolassanchezr</td>\n",
       "      <td>17</td>\n",
       "      <td>0</td>\n",
       "      <td>0</td>\n",
       "    </tr>\n",
       "    <tr>\n",
       "      <th>12</th>\n",
       "      <td>valentinaperezg</td>\n",
       "      <td>15</td>\n",
       "      <td>0</td>\n",
       "      <td>0</td>\n",
       "    </tr>\n",
       "    <tr>\n",
       "      <th>13</th>\n",
       "      <td>violetabarrazap</td>\n",
       "      <td>14</td>\n",
       "      <td>0</td>\n",
       "      <td>0</td>\n",
       "    </tr>\n",
       "    <tr>\n",
       "      <th>14</th>\n",
       "      <td>yordanuribea</td>\n",
       "      <td>5</td>\n",
       "      <td>0</td>\n",
       "      <td>0</td>\n",
       "    </tr>\n",
       "  </tbody>\n",
       "</table>\n",
       "</div>"
      ],
      "text/plain": [
       "             STUDENT TOTAL LEARNING MINUTES SKILLS LEVELED UP  \\\n",
       "0     agustinaguayoe                     16                 0   \n",
       "1       amandasuazor                     15                 0   \n",
       "2     conzuelolopezc                     17                 0   \n",
       "3   edinsonneguimanr                     16                 0   \n",
       "4     hernanepuyados                     16                 0   \n",
       "5          iliaaedoc                     15                 0   \n",
       "6       javiertapias                     17                 0   \n",
       "7    jeanhuenchunira                      3                 0   \n",
       "8      jeansubiabrev                     17                 0   \n",
       "9     marcohonoraton                     14                 0   \n",
       "10      mariamolinad                     12                 0   \n",
       "11   nicolassanchezr                     17                 0   \n",
       "12   valentinaperezg                     15                 0   \n",
       "13   violetabarrazap                     14                 0   \n",
       "14      yordanuribea                      5                 0   \n",
       "\n",
       "   SKILLS W/O PROGRESS  \n",
       "0                    0  \n",
       "1                    0  \n",
       "2                    0  \n",
       "3                    1  \n",
       "4                    0  \n",
       "5                    0  \n",
       "6                    0  \n",
       "7                    0  \n",
       "8                    0  \n",
       "9                    0  \n",
       "10                   0  \n",
       "11                   0  \n",
       "12                   0  \n",
       "13                   0  \n",
       "14                   0  "
      ]
     },
     "execution_count": 70,
     "metadata": {},
     "output_type": "execute_result"
    }
   ],
   "source": [
    "df3"
   ]
  },
  {
   "cell_type": "code",
   "execution_count": 36,
   "id": "06900ec7",
   "metadata": {},
   "outputs": [
    {
     "name": "stderr",
     "output_type": "stream",
     "text": [
      "C:\\Users\\jonat\\AppData\\Local\\Temp\\ipykernel_12556\\3773435993.py:7: DeprecationWarning: find_element_by_xpath is deprecated. Please use find_element(by=By.XPATH, value=xpath) instead\n",
      "  driver.find_element_by_xpath('//*[@id=\"uid-login-form-0-wb-id-identifier-field\"]').send_keys(password)\n",
      "C:\\Users\\jonat\\AppData\\Local\\Temp\\ipykernel_12556\\3773435993.py:8: DeprecationWarning: find_element_by_xpath is deprecated. Please use find_element(by=By.XPATH, value=xpath) instead\n",
      "  driver.find_element_by_xpath('//*[@id=\"uid-labeled-text-field-1-wb-id-field\"]').send_keys(email)\n",
      "C:\\Users\\jonat\\AppData\\Local\\Temp\\ipykernel_12556\\3773435993.py:9: DeprecationWarning: find_element_by_xpath is deprecated. Please use find_element(by=By.XPATH, value=xpath) instead\n",
      "  driver.find_element_by_xpath('//*[@id=\"app-shell-root\"]/div/div[3]/div/div[3]/section[2]/div/div/form/button').click()\n"
     ]
    }
   ],
   "source": [
    "#Login Khan Academy\n",
    "driver.get('https://es.khanacademy.org/login')\n",
    "time.sleep(4)\n",
    "password = \"\"\n",
    "email = \"\"\n",
    "\n",
    "driver.find_element_by_xpath('//*[@id=\"uid-login-form-0-wb-id-identifier-field\"]').send_keys(password)\n",
    "driver.find_element_by_xpath('//*[@id=\"uid-labeled-text-field-1-wb-id-field\"]').send_keys(email)\n",
    "driver.find_element_by_xpath('//*[@id=\"app-shell-root\"]/div/div[3]/div/div[3]/section[2]/div/div/form/button').click()"
   ]
  },
  {
   "cell_type": "code",
   "execution_count": 65,
   "id": "b20effb1",
   "metadata": {},
   "outputs": [
    {
     "name": "stderr",
     "output_type": "stream",
     "text": [
      "C:\\Users\\jonat\\AppData\\Local\\Temp\\ipykernel_12864\\1602973592.py:1: DeprecationWarning: executable_path has been deprecated, please pass in a Service object\n",
      "  driver = webdriver.Chrome('webdriver//chromedriver.exe')\n"
     ]
    }
   ],
   "source": [
    "driver = webdriver.Chrome('webdriver//chromedriver.exe')"
   ]
  },
  {
   "cell_type": "markdown",
   "id": "a3269b78",
   "metadata": {},
   "source": [
    "## urls:\n",
    "\n",
    "- https://www.khanacademy.org/teacher/class/B8R2QYTZ/overview/activity\n",
    "- https://www.khanacademy.org/teacher/class/SK8AVS6T/overview/activity\n",
    "- https://www.khanacademy.org/teacher/class/SNFD6RAV/overview/activity\n",
    "- https://www.khanacademy.org/teacher/class/4BDG3KYZ/overview/activity\n",
    "- https://www.khanacademy.org/teacher/class/PE4HKFPJ/overview/activity\n",
    "- https://www.khanacademy.org/teacher/class/FUDFPMJP/overview/activity\n",
    "- https://www.khanacademy.org/teacher/class/FUDFPMJP/overview/activity\n",
    "- https://www.khanacademy.org/teacher/class/Z5GBVS8T/overview/activity\n",
    "- https://www.khanacademy.org/teacher/class/VFQDGQ7C/overview/activity\n",
    "- https://www.khanacademy.org/teacher/class/EUX423PU/overview/activity"
   ]
  },
  {
   "cell_type": "code",
   "execution_count": 66,
   "id": "f9a91236",
   "metadata": {},
   "outputs": [
    {
     "name": "stderr",
     "output_type": "stream",
     "text": [
      "C:\\Users\\jonat\\AppData\\Local\\Temp\\ipykernel_12864\\3976053252.py:6: DeprecationWarning: find_element_by_xpath is deprecated. Please use find_element(by=By.XPATH, value=xpath) instead\n",
      "  driver.find_element_by_xpath('//*[@id=\"uid-login-form-0-wb-id-identifier-field\"]').send_keys(password)\n",
      "C:\\Users\\jonat\\AppData\\Local\\Temp\\ipykernel_12864\\3976053252.py:7: DeprecationWarning: find_element_by_xpath is deprecated. Please use find_element(by=By.XPATH, value=xpath) instead\n",
      "  driver.find_element_by_xpath('//*[@id=\"uid-labeled-text-field-1-wb-id-field\"]').send_keys(email)\n",
      "C:\\Users\\jonat\\AppData\\Local\\Temp\\ipykernel_12864\\3976053252.py:9: DeprecationWarning: find_element_by_xpath is deprecated. Please use find_element(by=By.XPATH, value=xpath) instead\n",
      "  driver.find_element_by_xpath('//*[@id=\"app-shell-root\"]/div/div[4]/div/div[3]/section[2]/div/div/form/button').click()\n",
      "C:\\Users\\jonat\\AppData\\Local\\Temp\\ipykernel_12864\\3976053252.py:10: DeprecationWarning: find_element_by_xpath is deprecated. Please use find_element(by=By.XPATH, value=xpath) instead\n",
      "  table = driver.find_element_by_xpath('//*[@id=\"class-shell\"]/div/div[2]/div[3]/div[2]/div[3]/div/div/div/div/table').text\n"
     ]
    },
    {
     "ename": "NoSuchElementException",
     "evalue": "Message: no such element: Unable to locate element: {\"method\":\"xpath\",\"selector\":\"//*[@id=\"class-shell\"]/div/div[2]/div[3]/div[2]/div[3]/div/div/div/div/table\"}\n  (Session info: chrome=102.0.5005.63)\nStacktrace:\nBacktrace:\n\tOrdinal0 [0x004DB8F3+2406643]\n\tOrdinal0 [0x0046AF31+1945393]\n\tOrdinal0 [0x0035C748+837448]\n\tOrdinal0 [0x003892E0+1020640]\n\tOrdinal0 [0x0038957B+1021307]\n\tOrdinal0 [0x003B6372+1205106]\n\tOrdinal0 [0x003A42C4+1131204]\n\tOrdinal0 [0x003B4682+1197698]\n\tOrdinal0 [0x003A4096+1130646]\n\tOrdinal0 [0x0037E636+976438]\n\tOrdinal0 [0x0037F546+980294]\n\tGetHandleVerifier [0x00749612+2498066]\n\tGetHandleVerifier [0x0073C920+2445600]\n\tGetHandleVerifier [0x00574F2A+579370]\n\tGetHandleVerifier [0x00573D36+574774]\n\tOrdinal0 [0x00471C0B+1973259]\n\tOrdinal0 [0x00476688+1992328]\n\tOrdinal0 [0x00476775+1992565]\n\tOrdinal0 [0x0047F8D1+2029777]\n\tBaseThreadInitThunk [0x7771FA29+25]\n\tRtlGetAppContainerNamedObjectPath [0x77BA7A7E+286]\n\tRtlGetAppContainerNamedObjectPath [0x77BA7A4E+238]\n",
     "output_type": "error",
     "traceback": [
      "\u001b[1;31m---------------------------------------------------------------------------\u001b[0m",
      "\u001b[1;31mNoSuchElementException\u001b[0m                    Traceback (most recent call last)",
      "Input \u001b[1;32mIn [66]\u001b[0m, in \u001b[0;36m<cell line: 10>\u001b[1;34m()\u001b[0m\n\u001b[0;32m      8\u001b[0m time\u001b[38;5;241m.\u001b[39msleep(\u001b[38;5;241m4\u001b[39m)\n\u001b[0;32m      9\u001b[0m driver\u001b[38;5;241m.\u001b[39mfind_element_by_xpath(\u001b[38;5;124m'\u001b[39m\u001b[38;5;124m//*[@id=\u001b[39m\u001b[38;5;124m\"\u001b[39m\u001b[38;5;124mapp-shell-root\u001b[39m\u001b[38;5;124m\"\u001b[39m\u001b[38;5;124m]/div/div[4]/div/div[3]/section[2]/div/div/form/button\u001b[39m\u001b[38;5;124m'\u001b[39m)\u001b[38;5;241m.\u001b[39mclick()\n\u001b[1;32m---> 10\u001b[0m table \u001b[38;5;241m=\u001b[39m \u001b[43mdriver\u001b[49m\u001b[38;5;241;43m.\u001b[39;49m\u001b[43mfind_element_by_xpath\u001b[49m\u001b[43m(\u001b[49m\u001b[38;5;124;43m'\u001b[39;49m\u001b[38;5;124;43m//*[@id=\u001b[39;49m\u001b[38;5;124;43m\"\u001b[39;49m\u001b[38;5;124;43mclass-shell\u001b[39;49m\u001b[38;5;124;43m\"\u001b[39;49m\u001b[38;5;124;43m]/div/div[2]/div[3]/div[2]/div[3]/div/div/div/div/table\u001b[39;49m\u001b[38;5;124;43m'\u001b[39;49m\u001b[43m)\u001b[49m\u001b[38;5;241m.\u001b[39mtext\n",
      "File \u001b[1;32m~\\anaconda3\\lib\\site-packages\\selenium\\webdriver\\remote\\webdriver.py:526\u001b[0m, in \u001b[0;36mWebDriver.find_element_by_xpath\u001b[1;34m(self, xpath)\u001b[0m\n\u001b[0;32m    504\u001b[0m \u001b[38;5;124;03m\"\"\"\u001b[39;00m\n\u001b[0;32m    505\u001b[0m \u001b[38;5;124;03mFinds an element by xpath.\u001b[39;00m\n\u001b[0;32m    506\u001b[0m \n\u001b[1;32m   (...)\u001b[0m\n\u001b[0;32m    519\u001b[0m \u001b[38;5;124;03m        element = driver.find_element_by_xpath('//div/td[1]')\u001b[39;00m\n\u001b[0;32m    520\u001b[0m \u001b[38;5;124;03m\"\"\"\u001b[39;00m\n\u001b[0;32m    521\u001b[0m warnings\u001b[38;5;241m.\u001b[39mwarn(\n\u001b[0;32m    522\u001b[0m     \u001b[38;5;124m\"\u001b[39m\u001b[38;5;124mfind_element_by_xpath is deprecated. Please use find_element(by=By.XPATH, value=xpath) instead\u001b[39m\u001b[38;5;124m\"\u001b[39m,\n\u001b[0;32m    523\u001b[0m     \u001b[38;5;167;01mDeprecationWarning\u001b[39;00m,\n\u001b[0;32m    524\u001b[0m     stacklevel\u001b[38;5;241m=\u001b[39m\u001b[38;5;241m2\u001b[39m,\n\u001b[0;32m    525\u001b[0m )\n\u001b[1;32m--> 526\u001b[0m \u001b[38;5;28;01mreturn\u001b[39;00m \u001b[38;5;28;43mself\u001b[39;49m\u001b[38;5;241;43m.\u001b[39;49m\u001b[43mfind_element\u001b[49m\u001b[43m(\u001b[49m\u001b[43mby\u001b[49m\u001b[38;5;241;43m=\u001b[39;49m\u001b[43mBy\u001b[49m\u001b[38;5;241;43m.\u001b[39;49m\u001b[43mXPATH\u001b[49m\u001b[43m,\u001b[49m\u001b[43m \u001b[49m\u001b[43mvalue\u001b[49m\u001b[38;5;241;43m=\u001b[39;49m\u001b[43mxpath\u001b[49m\u001b[43m)\u001b[49m\n",
      "File \u001b[1;32m~\\anaconda3\\lib\\site-packages\\selenium\\webdriver\\remote\\webdriver.py:1251\u001b[0m, in \u001b[0;36mWebDriver.find_element\u001b[1;34m(self, by, value)\u001b[0m\n\u001b[0;32m   1248\u001b[0m     by \u001b[38;5;241m=\u001b[39m By\u001b[38;5;241m.\u001b[39mCSS_SELECTOR\n\u001b[0;32m   1249\u001b[0m     value \u001b[38;5;241m=\u001b[39m \u001b[38;5;124m'\u001b[39m\u001b[38;5;124m[name=\u001b[39m\u001b[38;5;124m\"\u001b[39m\u001b[38;5;132;01m%s\u001b[39;00m\u001b[38;5;124m\"\u001b[39m\u001b[38;5;124m]\u001b[39m\u001b[38;5;124m'\u001b[39m \u001b[38;5;241m%\u001b[39m value\n\u001b[1;32m-> 1251\u001b[0m \u001b[38;5;28;01mreturn\u001b[39;00m \u001b[38;5;28;43mself\u001b[39;49m\u001b[38;5;241;43m.\u001b[39;49m\u001b[43mexecute\u001b[49m\u001b[43m(\u001b[49m\u001b[43mCommand\u001b[49m\u001b[38;5;241;43m.\u001b[39;49m\u001b[43mFIND_ELEMENT\u001b[49m\u001b[43m,\u001b[49m\u001b[43m \u001b[49m\u001b[43m{\u001b[49m\n\u001b[0;32m   1252\u001b[0m \u001b[43m    \u001b[49m\u001b[38;5;124;43m'\u001b[39;49m\u001b[38;5;124;43musing\u001b[39;49m\u001b[38;5;124;43m'\u001b[39;49m\u001b[43m:\u001b[49m\u001b[43m \u001b[49m\u001b[43mby\u001b[49m\u001b[43m,\u001b[49m\n\u001b[0;32m   1253\u001b[0m \u001b[43m    \u001b[49m\u001b[38;5;124;43m'\u001b[39;49m\u001b[38;5;124;43mvalue\u001b[39;49m\u001b[38;5;124;43m'\u001b[39;49m\u001b[43m:\u001b[49m\u001b[43m \u001b[49m\u001b[43mvalue\u001b[49m\u001b[43m}\u001b[49m\u001b[43m)\u001b[49m[\u001b[38;5;124m'\u001b[39m\u001b[38;5;124mvalue\u001b[39m\u001b[38;5;124m'\u001b[39m]\n",
      "File \u001b[1;32m~\\anaconda3\\lib\\site-packages\\selenium\\webdriver\\remote\\webdriver.py:430\u001b[0m, in \u001b[0;36mWebDriver.execute\u001b[1;34m(self, driver_command, params)\u001b[0m\n\u001b[0;32m    428\u001b[0m response \u001b[38;5;241m=\u001b[39m \u001b[38;5;28mself\u001b[39m\u001b[38;5;241m.\u001b[39mcommand_executor\u001b[38;5;241m.\u001b[39mexecute(driver_command, params)\n\u001b[0;32m    429\u001b[0m \u001b[38;5;28;01mif\u001b[39;00m response:\n\u001b[1;32m--> 430\u001b[0m     \u001b[38;5;28;43mself\u001b[39;49m\u001b[38;5;241;43m.\u001b[39;49m\u001b[43merror_handler\u001b[49m\u001b[38;5;241;43m.\u001b[39;49m\u001b[43mcheck_response\u001b[49m\u001b[43m(\u001b[49m\u001b[43mresponse\u001b[49m\u001b[43m)\u001b[49m\n\u001b[0;32m    431\u001b[0m     response[\u001b[38;5;124m'\u001b[39m\u001b[38;5;124mvalue\u001b[39m\u001b[38;5;124m'\u001b[39m] \u001b[38;5;241m=\u001b[39m \u001b[38;5;28mself\u001b[39m\u001b[38;5;241m.\u001b[39m_unwrap_value(\n\u001b[0;32m    432\u001b[0m         response\u001b[38;5;241m.\u001b[39mget(\u001b[38;5;124m'\u001b[39m\u001b[38;5;124mvalue\u001b[39m\u001b[38;5;124m'\u001b[39m, \u001b[38;5;28;01mNone\u001b[39;00m))\n\u001b[0;32m    433\u001b[0m     \u001b[38;5;28;01mreturn\u001b[39;00m response\n",
      "File \u001b[1;32m~\\anaconda3\\lib\\site-packages\\selenium\\webdriver\\remote\\errorhandler.py:247\u001b[0m, in \u001b[0;36mErrorHandler.check_response\u001b[1;34m(self, response)\u001b[0m\n\u001b[0;32m    245\u001b[0m         alert_text \u001b[38;5;241m=\u001b[39m value[\u001b[38;5;124m'\u001b[39m\u001b[38;5;124malert\u001b[39m\u001b[38;5;124m'\u001b[39m]\u001b[38;5;241m.\u001b[39mget(\u001b[38;5;124m'\u001b[39m\u001b[38;5;124mtext\u001b[39m\u001b[38;5;124m'\u001b[39m)\n\u001b[0;32m    246\u001b[0m     \u001b[38;5;28;01mraise\u001b[39;00m exception_class(message, screen, stacktrace, alert_text)  \u001b[38;5;66;03m# type: ignore[call-arg]  # mypy is not smart enough here\u001b[39;00m\n\u001b[1;32m--> 247\u001b[0m \u001b[38;5;28;01mraise\u001b[39;00m exception_class(message, screen, stacktrace)\n",
      "\u001b[1;31mNoSuchElementException\u001b[0m: Message: no such element: Unable to locate element: {\"method\":\"xpath\",\"selector\":\"//*[@id=\"class-shell\"]/div/div[2]/div[3]/div[2]/div[3]/div/div/div/div/table\"}\n  (Session info: chrome=102.0.5005.63)\nStacktrace:\nBacktrace:\n\tOrdinal0 [0x004DB8F3+2406643]\n\tOrdinal0 [0x0046AF31+1945393]\n\tOrdinal0 [0x0035C748+837448]\n\tOrdinal0 [0x003892E0+1020640]\n\tOrdinal0 [0x0038957B+1021307]\n\tOrdinal0 [0x003B6372+1205106]\n\tOrdinal0 [0x003A42C4+1131204]\n\tOrdinal0 [0x003B4682+1197698]\n\tOrdinal0 [0x003A4096+1130646]\n\tOrdinal0 [0x0037E636+976438]\n\tOrdinal0 [0x0037F546+980294]\n\tGetHandleVerifier [0x00749612+2498066]\n\tGetHandleVerifier [0x0073C920+2445600]\n\tGetHandleVerifier [0x00574F2A+579370]\n\tGetHandleVerifier [0x00573D36+574774]\n\tOrdinal0 [0x00471C0B+1973259]\n\tOrdinal0 [0x00476688+1992328]\n\tOrdinal0 [0x00476775+1992565]\n\tOrdinal0 [0x0047F8D1+2029777]\n\tBaseThreadInitThunk [0x7771FA29+25]\n\tRtlGetAppContainerNamedObjectPath [0x77BA7A7E+286]\n\tRtlGetAppContainerNamedObjectPath [0x77BA7A4E+238]\n"
     ]
    }
   ],
   "source": [
    "## script\n",
    "cursos = [\"B8R2QYTZ\",\"SK8AVS6T\",\"SNFD6RAV\",\"4BDG3KYZ\",\"PE4HKFPJ\",\"FUDFPMJP\",\"FUDFPMJP\",\"Z5GBVS8T\",\"VFQDGQ7C\",\"EUX423PU\"]\n",
    "#for i in cursos:\n",
    "driver.get(\"https://www.khanacademy.org/teacher/class/\"+cursos[0]+\"/overview/activity\")\n",
    "driver.find_element_by_xpath('//*[@id=\"uid-login-form-0-wb-id-identifier-field\"]').send_keys(password)\n",
    "driver.find_element_by_xpath('//*[@id=\"uid-labeled-text-field-1-wb-id-field\"]').send_keys(email)\n",
    "time.sleep(4)\n",
    "driver.find_element_by_xpath('//*[@id=\"app-shell-root\"]/div/div[4]/div/div[3]/section[2]/div/div/form/button').click()\n",
    "table = driver.find_element_by_xpath('//*[@id=\"class-shell\"]/div/div[2]/div[3]/div[2]/div[3]/div/div/div/div/table').text"
   ]
  },
  {
   "cell_type": "code",
   "execution_count": 7,
   "id": "61259812",
   "metadata": {},
   "outputs": [],
   "source": [
    "password = \"\"\n",
    "email = \"\"\n",
    "infoCursos = "
   ]
  },
  {
   "cell_type": "code",
   "execution_count": 19,
   "id": "929ae84c",
   "metadata": {},
   "outputs": [
    {
     "name": "stderr",
     "output_type": "stream",
     "text": [
      "C:\\Users\\jonat\\AppData\\Local\\Temp\\ipykernel_12864\\1912526839.py:2: DeprecationWarning: find_element_by_xpath is deprecated. Please use find_element(by=By.XPATH, value=xpath) instead\n",
      "  table = driver.find_element_by_xpath('//*[@id=\"class-shell\"]/div/div[2]/div[3]/div[2]/div[3]/div/div/div/div/table').text\n",
      "C:\\Users\\jonat\\AppData\\Local\\Temp\\ipykernel_12864\\1912526839.py:3: DeprecationWarning: find_element_by_xpath is deprecated. Please use find_element(by=By.XPATH, value=xpath) instead\n",
      "  heads = driver.find_element_by_xpath('//*[@id=\"class-shell\"]/div/div[2]/div[3]/div[2]/div[3]/div/div/div/div/table/thead/tr')\n",
      "C:\\Users\\jonat\\AppData\\Local\\Temp\\ipykernel_12864\\1912526839.py:6: DeprecationWarning: find_elements_by_css_selector is deprecated. Please use find_elements(by=By.CSS_SELECTOR, value=css_selector) instead\n",
      "  for head in heads.find_elements_by_css_selector('tr'):\n"
     ]
    },
    {
     "ename": "AttributeError",
     "evalue": "'str' object has no attribute 'find_elements_by_css_selector'",
     "output_type": "error",
     "traceback": [
      "\u001b[1;31m---------------------------------------------------------------------------\u001b[0m",
      "\u001b[1;31mAttributeError\u001b[0m                            Traceback (most recent call last)",
      "Input \u001b[1;32mIn [19]\u001b[0m, in \u001b[0;36m<cell line: 4>\u001b[1;34m()\u001b[0m\n\u001b[0;32m      6\u001b[0m \u001b[38;5;28;01mfor\u001b[39;00m head \u001b[38;5;129;01min\u001b[39;00m heads\u001b[38;5;241m.\u001b[39mfind_elements_by_css_selector(\u001b[38;5;124m'\u001b[39m\u001b[38;5;124mtr\u001b[39m\u001b[38;5;124m'\u001b[39m):\n\u001b[0;32m      7\u001b[0m     wr\u001b[38;5;241m.\u001b[39mwriterow([d\u001b[38;5;241m.\u001b[39mtext \u001b[38;5;28;01mfor\u001b[39;00m d \u001b[38;5;129;01min\u001b[39;00m row\u001b[38;5;241m.\u001b[39mfind_elements_by_css_selector(\u001b[38;5;124m'\u001b[39m\u001b[38;5;124mth\u001b[39m\u001b[38;5;124m'\u001b[39m)\u001b[38;5;241m.\u001b[39mgetText()])\n\u001b[1;32m----> 8\u001b[0m \u001b[38;5;28;01mfor\u001b[39;00m row \u001b[38;5;129;01min\u001b[39;00m \u001b[43mtable\u001b[49m\u001b[38;5;241;43m.\u001b[39;49m\u001b[43mfind_elements_by_css_selector\u001b[49m(\u001b[38;5;124m'\u001b[39m\u001b[38;5;124mtr\u001b[39m\u001b[38;5;124m'\u001b[39m):\n\u001b[0;32m      9\u001b[0m     wr\u001b[38;5;241m.\u001b[39mwriterow([d\u001b[38;5;241m.\u001b[39mtext \u001b[38;5;28;01mfor\u001b[39;00m d \u001b[38;5;129;01min\u001b[39;00m row\u001b[38;5;241m.\u001b[39mfind_elements_by_css_selector(\u001b[38;5;124m'\u001b[39m\u001b[38;5;124mtd\u001b[39m\u001b[38;5;124m'\u001b[39m)])\n",
      "\u001b[1;31mAttributeError\u001b[0m: 'str' object has no attribute 'find_elements_by_css_selector'"
     ]
    }
   ],
   "source": [
    "import csv\n",
    "table = driver.find_element_by_xpath('//*[@id=\"class-shell\"]/div/div[2]/div[3]/div[2]/div[3]/div/div/div/div/table').text\n",
    "heads = driver.find_element_by_xpath('//*[@id=\"class-shell\"]/div/div[2]/div[3]/div[2]/div[3]/div/div/div/div/table/thead/tr')\n",
    "with open('info.csv', 'w', newline='') as csvfile:\n",
    "    wr = csv.writer(csvfile)\n",
    "    for head in heads.find_elements_by_css_selector('tr'):\n",
    "        wr.writerow([d.text for d in row.find_elements_by_css_selector('th').getText()])\n",
    "    for row in table.find_elements_by_css_selector('tr'):\n",
    "        wr.writerow([d.text for d in row.find_elements_by_css_selector('td')])"
   ]
  },
  {
   "cell_type": "code",
   "execution_count": 31,
   "id": "3ce249f5",
   "metadata": {},
   "outputs": [
    {
     "data": {
      "text/plain": [
       "<selenium.webdriver.remote.webelement.WebElement (session=\"3d389eec4da90a719b43fe9045032bce\", element=\"038ae1a4-dfad-44ea-8615-5252bfc144b9\")>"
      ]
     },
     "execution_count": 31,
     "metadata": {},
     "output_type": "execute_result"
    }
   ],
   "source": []
  },
  {
   "cell_type": "code",
   "execution_count": null,
   "id": "07bd2a5a",
   "metadata": {},
   "outputs": [],
   "source": []
  }
 ],
 "metadata": {
  "kernelspec": {
   "display_name": "Python 3 (ipykernel)",
   "language": "python",
   "name": "python3"
  },
  "language_info": {
   "codemirror_mode": {
    "name": "ipython",
    "version": 3
   },
   "file_extension": ".py",
   "mimetype": "text/x-python",
   "name": "python",
   "nbconvert_exporter": "python",
   "pygments_lexer": "ipython3",
   "version": "3.9.12"
  }
 },
 "nbformat": 4,
 "nbformat_minor": 5
}
