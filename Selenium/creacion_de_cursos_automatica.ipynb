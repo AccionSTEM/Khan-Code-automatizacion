{
 "cells": [
  {
   "cell_type": "code",
   "execution_count": 186,
   "id": "adb47188",
   "metadata": {},
   "outputs": [],
   "source": [
    "from selenium import webdriver\n",
    "import pandas as pd\n",
    "import xlwt\n",
    "import time"
   ]
  },
  {
   "cell_type": "code",
   "execution_count": 187,
   "id": "d7b33cdc",
   "metadata": {},
   "outputs": [],
   "source": [
    "#driver.find_element_by_xpath('').send_keys()\n",
    "#driver.find_element_by_xpath('').click()"
   ]
  },
  {
   "cell_type": "code",
   "execution_count": 188,
   "id": "8149ac54",
   "metadata": {},
   "outputs": [],
   "source": [
    "driver = webdriver.Chrome('webdriver//chromedriver.exe')"
   ]
  },
  {
   "cell_type": "markdown",
   "id": "a1bf994c",
   "metadata": {},
   "source": [
    "# Creación cursos CODE"
   ]
  },
  {
   "cell_type": "code",
   "execution_count": 189,
   "id": "fd9ae018",
   "metadata": {},
   "outputs": [],
   "source": [
    "#login CODE\n",
    "driver.get('https://studio.code.org/home')\n",
    "password = \"\"\n",
    "email = \"\"\n",
    "driver.find_element_by_xpath('//*[@id=\"user_login\"]').send_keys(email)\n",
    "driver.find_element_by_xpath('//*[@id=\"user_password\"]').send_keys(password)\n",
    "driver.find_element_by_xpath('//*[@id=\"signin-button\"]').click()"
   ]
  },
  {
   "cell_type": "code",
   "execution_count": 184,
   "id": "e3f125db",
   "metadata": {},
   "outputs": [],
   "source": [
    "#ejecución creacion cursos CODE\n",
    "df = pd.read_excel('codigo_cursos.xls')\n",
    "resultados_CODE= open(\"codigosCode.txt\",\"w+\")\n",
    "resultados_CODE.write(\"EE,Codigo Code \\r\")\n",
    "for i in range (1,df.shape[0]):\n",
    "    select = df.iat[i,0]\n",
    "    curso = select[0:-1]\n",
    "    #create section\n",
    "    driver.find_element_by_xpath('//*[@id=\"classroom-sections\"]/div[1]/div[2]/div[1]/div/button').click()\n",
    "    driver.find_element_by_xpath('//*[@id=\"classroom-sections\"]/div[4]/div[2]/div/div/div/h1').click()\n",
    "    #type of student login\n",
    "    driver.find_element_by_xpath('//*[@id=\"classroom-sections\"]/div[4]/div[2]/div/div/div/div[1]/div[1]/div[3]').click()\n",
    "    #section name \n",
    "    driver.find_element_by_xpath('//*[@id=\"uitest-section-name\"]').send_keys(curso)\n",
    "    #grade\n",
    "    driver.find_element_by_xpath('//*[@id=\"classroom-sections\"]/div[4]/div[2]/div/div/div/div[1]/div[2]/select').click()\n",
    "    #grade selection\n",
    "    driver.find_element_by_xpath('//*[@id=\"classroom-sections\"]/div[4]/div[2]/div/div/div/div[1]/div[2]/select/option[13]').click()\n",
    "    #course\n",
    "    driver.find_element_by_xpath('//*[@id=\"uitest-assignment-family\"]').click()\n",
    "    driver.find_element_by_xpath('//*[@id=\"uitest-assignment-family\"]/optgroup[2]/option[4]').click()\n",
    "    #save\n",
    "    driver.find_element_by_xpath('//*[@id=\"classroom-sections\"]/div[4]/div[2]/div/div/div/div[2]/div[2]/div/div[2]').click()\n",
    "    time.sleep(3)\n",
    "    elem = driver.find_element_by_xpath('//*[@id=\"classroom-sections\"]/div[2]/div[2]/div/div/div/table/tbody/tr[1]/td[6]/a')\n",
    "    resultados.write( curso+\",\"+elem.text+\"\\r\")\n",
    "resultados.close()"
   ]
  },
  {
   "cell_type": "markdown",
   "id": "f68da3e8",
   "metadata": {},
   "source": [
    "# Creación cursos Khan Academy"
   ]
  },
  {
   "cell_type": "code",
   "execution_count": 192,
   "id": "57967e4f",
   "metadata": {},
   "outputs": [],
   "source": [
    "#Login Khan Academy\n",
    "driver.get('https://es.khanacademy.org/login')\n",
    "password = \"\"\n",
    "email = \"\"\n",
    "\n",
    "driver.find_element_by_xpath('//*[@id=\"uid-login-form-0-wb-id-identifier-field\"]').send_keys(email)\n",
    "driver.find_element_by_xpath('//*[@id=\"uid-labeled-text-field-1-wb-id-field\"]').send_keys(password)\n",
    "driver.find_element_by_xpath('//*[@id=\"app-shell-root\"]/div/div[3]/div/div[3]/section[2]/div/div/form/button').click()"
   ]
  },
  {
   "cell_type": "code",
   "execution_count": 193,
   "id": "179b0dd9",
   "metadata": {},
   "outputs": [],
   "source": [
    "driver.find_element_by_xpath('//*[@id=\"app-shell-root\"]/div/div[4]/div/div[3]/div[2]/div[1]/div[1]/div').click()\n"
   ]
  },
  {
   "cell_type": "code",
   "execution_count": 205,
   "id": "6ca590a3",
   "metadata": {},
   "outputs": [],
   "source": [
    "driver.find_element_by_xpath('//*[@id=\"uid-labeled-text-field-15-wb-id-field\"]').send_keys(\"test\")\n",
    "driver.find_element_by_xpath('//*[@id=\"app-shell-root\"]/div/div[4]/div/div[3]/div[2]/div[1]/div[1]/div/div/div[1]/div/div[2]/div[3]/div[2]/button').click()"
   ]
  },
  {
   "cell_type": "code",
   "execution_count": 207,
   "id": "6fa0fd96",
   "metadata": {},
   "outputs": [],
   "source": [
    "driver.find_element_by_class_name('//*[@id=\"app-shell-root\"]/div/div[4]/div/div[3]/div[2]/div[1]/div[1]/div/div/div[1]/div/div[2]/div[3]/div[2]/button').click()"
   ]
  },
  {
   "cell_type": "code",
   "execution_count": 226,
   "id": "ab8cc42d",
   "metadata": {},
   "outputs": [
    {
     "ename": "KeyboardInterrupt",
     "evalue": "",
     "output_type": "error",
     "traceback": [
      "\u001b[1;31m---------------------------------------------------------------------------\u001b[0m",
      "\u001b[1;31mKeyboardInterrupt\u001b[0m                         Traceback (most recent call last)",
      "\u001b[1;32m~\\AppData\\Local\\Temp/ipykernel_13176/1534556224.py\u001b[0m in \u001b[0;36m<module>\u001b[1;34m\u001b[0m\n\u001b[0;32m     16\u001b[0m     \u001b[0mtime\u001b[0m\u001b[1;33m.\u001b[0m\u001b[0msleep\u001b[0m\u001b[1;33m(\u001b[0m\u001b[1;36m3\u001b[0m\u001b[1;33m)\u001b[0m\u001b[1;33m\u001b[0m\u001b[1;33m\u001b[0m\u001b[0m\n\u001b[0;32m     17\u001b[0m     \u001b[0mdriver\u001b[0m\u001b[1;33m.\u001b[0m\u001b[0mfind_element_by_xpath\u001b[0m\u001b[1;33m(\u001b[0m\u001b[1;34m'//*[@id=\"app-shell-root\"]/div/div[4]/div/div[3]/div[2]/div[1]/div[1]/div/div/div[1]/div/div[2]/div[3]/div[2]/button'\u001b[0m\u001b[1;33m)\u001b[0m\u001b[1;33m.\u001b[0m\u001b[0mclick\u001b[0m\u001b[1;33m(\u001b[0m\u001b[1;33m)\u001b[0m\u001b[1;33m\u001b[0m\u001b[1;33m\u001b[0m\u001b[0m\n\u001b[1;32m---> 18\u001b[1;33m     \u001b[0mtime\u001b[0m\u001b[1;33m.\u001b[0m\u001b[0msleep\u001b[0m\u001b[1;33m(\u001b[0m\u001b[1;36m3\u001b[0m\u001b[1;33m)\u001b[0m\u001b[1;33m\u001b[0m\u001b[1;33m\u001b[0m\u001b[0m\n\u001b[0m\u001b[0;32m     19\u001b[0m     \u001b[0mdriver\u001b[0m\u001b[1;33m.\u001b[0m\u001b[0mfind_element_by_xpath\u001b[0m\u001b[1;33m(\u001b[0m\u001b[1;34m'//*[@id=\"app-shell-root\"]/div/div[4]/div/div[3]/div[2]/div[1]/div[1]/div/div/div[1]/div/div[2]/div[3]/div[2]/button[1]'\u001b[0m\u001b[1;33m)\u001b[0m\u001b[1;33m.\u001b[0m\u001b[0mclick\u001b[0m\u001b[1;33m(\u001b[0m\u001b[1;33m)\u001b[0m\u001b[1;33m\u001b[0m\u001b[1;33m\u001b[0m\u001b[0m\n\u001b[0;32m     20\u001b[0m     \u001b[0mtime\u001b[0m\u001b[1;33m.\u001b[0m\u001b[0msleep\u001b[0m\u001b[1;33m(\u001b[0m\u001b[1;36m10\u001b[0m\u001b[1;33m)\u001b[0m\u001b[1;33m\u001b[0m\u001b[1;33m\u001b[0m\u001b[0m\n",
      "\u001b[1;31mKeyboardInterrupt\u001b[0m: "
     ]
    }
   ],
   "source": [
    "#ejecucion creacion cursos KHAN ACADEMY\n",
    "df = pd.read_excel('codigo_cursos.xls')\n",
    "resultados_KhanAcademy= open(\"codigosKhan.txt\",\"w+\")\n",
    "resultados_KhanAcademy.write(\"EE,Codigo KhanAcademy \\r\")\n",
    "for i in range (5,df.shape[0]):\n",
    "    select = df.iat[i,0]\n",
    "    curso = select[0:-1]\n",
    "    time.sleep(3)\n",
    "    driver.find_element_by_xpath('//*[@id=\"app-shell-root\"]/div/div[4]/div/div[3]/div[2]/div[1]/div[1]/div').click()\n",
    "    time.sleep(3)\n",
    "    driver.find_element_by_xpath('/html/body/div/div[3]/div/div[2]/div/div/div[4]/div/div[3]/div[2]/div[1]/div[1]/div/div/div[1]/div/div[2]/div[2]/div/div/div/div[1]/div/div/div[2]/input').send_keys(curso)\n",
    "    time.sleep(3)\n",
    "    driver.find_element_by_xpath('//*[@id=\"app-shell-root\"]/div/div[4]/div/div[3]/div[2]/div[1]/div[1]/div/div/div[1]/div/div[2]/div[3]/div[2]/button').click()\n",
    "    time.sleep(3)\n",
    "    driver.find_element_by_xpath('//*[@id=\"app-shell-root\"]/div/div[4]/div/div[3]/div[2]/div[1]/div[1]/div/div/div[1]/div/div[2]/div[3]/div[2]/button[1]').click()\n",
    "    time.sleep(3)\n",
    "    driver.find_element_by_xpath('//*[@id=\"app-shell-root\"]/div/div[4]/div/div[3]/div[2]/div[1]/div[1]/div/div/div[1]/div/div[2]/div[3]/div[2]/button').click()\n",
    "    time.sleep(3)\n",
    "    driver.find_element_by_xpath('//*[@id=\"app-shell-root\"]/div/div[4]/div/div[3]/div[2]/div[1]/div[1]/div/div/div[1]/div/div[2]/div[3]/div[2]/button[1]').click()\n",
    "    time.sleep(10)\n",
    "    elem = driver.find_element_by_xpath('//*[@id=\"class-shell\"]/div/div[2]/div[2]/div[2]/div[1]/h4')\n",
    "    resultados_KhanAcademy.write( curso+\",\"+elem.text+\"\\r\")\n",
    "    driver.get('https://es.khanacademy.org/teacher/dashboard')\n",
    "    time.sleep(2)"
   ]
  },
  {
   "cell_type": "code",
   "execution_count": 227,
   "id": "e586d76d",
   "metadata": {},
   "outputs": [],
   "source": [
    "#transformación de códigos en excel\n",
    "def txt_xls(filename,xlsname):\n",
    "    try:\n",
    "        f = open(filename) \n",
    "        xls=xlwt.Workbook()\n",
    "                 # Método para generar Excel, declarar Excel\n",
    "        sheet = xls.add_sheet('sheet1',cell_overwrite_ok=True) \n",
    "        x = 0 \n",
    "        while True:\n",
    "                         # Ciclo por línea, leer archivo de texto\n",
    "            line = f.readline() \n",
    "            if not line: \n",
    "                break; #Si no hay contenido, salga del bucle\n",
    "            for i in range(len(line.split(','))):\n",
    "                item=line.split(',')[i]\n",
    "                sheet.write (x, i, item) #x longitud de celda, i latitud de celda\n",
    "            x = x + 1 #excel comienza una nueva línea\n",
    "        f.close()\n",
    "        xls.save (xlsname) #Guardar archivo xls\n",
    "    except:\n",
    "        raise"
   ]
  },
  {
   "cell_type": "code",
   "execution_count": 229,
   "id": "c19a25c4",
   "metadata": {},
   "outputs": [],
   "source": [
    "#txt_xls(\"codigosCODE.txt\",\"codigos_CODE_cursos_resultado.xls\")\n",
    "txt_xls(\"codigosKhan.txt\",\"codigos_KHAN_cursos_resultado.xls\")"
   ]
  },
  {
   "cell_type": "code",
   "execution_count": 173,
   "id": "aaedac8d",
   "metadata": {},
   "outputs": [],
   "source": [
    "#create section\n",
    "driver.find_element_by_xpath('//*[@id=\"classroom-sections\"]/div[1]/div[2]/div[1]/div/button').click()\n",
    "driver.find_element_by_xpath('//*[@id=\"classroom-sections\"]/div[4]/div[2]/div/div/div/h1').click()\n",
    "#type of student login\n",
    "driver.find_element_by_xpath('//*[@id=\"classroom-sections\"]/div[4]/div[2]/div/div/div/div[1]/div[1]/div[3]').click()"
   ]
  },
  {
   "cell_type": "code",
   "execution_count": 174,
   "id": "d61b0470",
   "metadata": {},
   "outputs": [
    {
     "ename": "AttributeError",
     "evalue": "'WebDriver' object has no attribute 'manage'",
     "output_type": "error",
     "traceback": [
      "\u001b[1;31m---------------------------------------------------------------------------\u001b[0m",
      "\u001b[1;31mAttributeError\u001b[0m                            Traceback (most recent call last)",
      "\u001b[1;32m~\\AppData\\Local\\Temp/ipykernel_13176/2525862747.py\u001b[0m in \u001b[0;36m<module>\u001b[1;34m\u001b[0m\n\u001b[0;32m      8\u001b[0m \u001b[0mdriver\u001b[0m\u001b[1;33m.\u001b[0m\u001b[0mfind_element_by_xpath\u001b[0m\u001b[1;33m(\u001b[0m\u001b[1;34m'//*[@id=\"uitest-assignment-family\"]'\u001b[0m\u001b[1;33m)\u001b[0m\u001b[1;33m.\u001b[0m\u001b[0mclick\u001b[0m\u001b[1;33m(\u001b[0m\u001b[1;33m)\u001b[0m\u001b[1;33m\u001b[0m\u001b[1;33m\u001b[0m\u001b[0m\n\u001b[0;32m      9\u001b[0m \u001b[0mdriver\u001b[0m\u001b[1;33m.\u001b[0m\u001b[0mfind_element_by_xpath\u001b[0m\u001b[1;33m(\u001b[0m\u001b[1;34m'//*[@id=\"uitest-assignment-family\"]/optgroup[2]/option[4]'\u001b[0m\u001b[1;33m)\u001b[0m\u001b[1;33m.\u001b[0m\u001b[0mclick\u001b[0m\u001b[1;33m(\u001b[0m\u001b[1;33m)\u001b[0m\u001b[1;33m\u001b[0m\u001b[1;33m\u001b[0m\u001b[0m\n\u001b[1;32m---> 10\u001b[1;33m \u001b[0mdriver\u001b[0m\u001b[1;33m.\u001b[0m\u001b[0mmanage\u001b[0m\u001b[1;33m(\u001b[0m\u001b[1;33m)\u001b[0m\u001b[1;33m.\u001b[0m\u001b[0mtimeouts\u001b[0m\u001b[1;33m(\u001b[0m\u001b[1;33m)\u001b[0m\u001b[1;33m.\u001b[0m\u001b[0mimplicitlyWait\u001b[0m\u001b[1;33m(\u001b[0m\u001b[1;36m3\u001b[0m\u001b[1;33m,\u001b[0m \u001b[0mTimeUnit\u001b[0m\u001b[1;33m.\u001b[0m\u001b[0mSECONDS\u001b[0m\u001b[1;33m)\u001b[0m\u001b[1;33m;\u001b[0m\u001b[1;33m\u001b[0m\u001b[1;33m\u001b[0m\u001b[0m\n\u001b[0m\u001b[0;32m     11\u001b[0m \u001b[1;31m#save\u001b[0m\u001b[1;33m\u001b[0m\u001b[1;33m\u001b[0m\u001b[0m\n\u001b[0;32m     12\u001b[0m \u001b[0mdriver\u001b[0m\u001b[1;33m.\u001b[0m\u001b[0mfind_element_by_xpath\u001b[0m\u001b[1;33m(\u001b[0m\u001b[1;34m'//*[@id=\"classroom-sections\"]/div[4]/div[2]/div/div/div/div[2]/div[2]/div/div[2]'\u001b[0m\u001b[1;33m)\u001b[0m\u001b[1;33m.\u001b[0m\u001b[0mclick\u001b[0m\u001b[1;33m(\u001b[0m\u001b[1;33m)\u001b[0m\u001b[1;33m\u001b[0m\u001b[1;33m\u001b[0m\u001b[0m\n",
      "\u001b[1;31mAttributeError\u001b[0m: 'WebDriver' object has no attribute 'manage'"
     ]
    }
   ],
   "source": [
    "#section name \n",
    "driver.find_element_by_xpath('//*[@id=\"uitest-section-name\"]').send_keys(\"LBGM3B\")\n",
    "#grade\n",
    "driver.find_element_by_xpath('//*[@id=\"classroom-sections\"]/div[4]/div[2]/div/div/div/div[1]/div[2]/select').click()\n",
    "#grade selection\n",
    "driver.find_element_by_xpath('//*[@id=\"classroom-sections\"]/div[4]/div[2]/div/div/div/div[1]/div[2]/select/option[13]').click()\n",
    "#course\n",
    "driver.find_element_by_xpath('//*[@id=\"uitest-assignment-family\"]').click()\n",
    "driver.find_element_by_xpath('//*[@id=\"uitest-assignment-family\"]/optgroup[2]/option[4]').click()\n",
    "driver.manage().timeouts().implicitlyWait(3, TimeUnit.SECONDS);\n",
    "#save\n",
    "driver.find_element_by_xpath('//*[@id=\"classroom-sections\"]/div[4]/div[2]/div/div/div/div[2]/div[2]/div/div[2]').click()"
   ]
  },
  {
   "cell_type": "code",
   "execution_count": null,
   "id": "c6fcf53a",
   "metadata": {},
   "outputs": [],
   "source": []
  },
  {
   "cell_type": "code",
   "execution_count": null,
   "id": "06900ec7",
   "metadata": {},
   "outputs": [],
   "source": []
  }
 ],
 "metadata": {
  "kernelspec": {
   "display_name": "Python 3 (ipykernel)",
   "language": "python",
   "name": "python3"
  },
  "language_info": {
   "codemirror_mode": {
    "name": "ipython",
    "version": 3
   },
   "file_extension": ".py",
   "mimetype": "text/x-python",
   "name": "python",
   "nbconvert_exporter": "python",
   "pygments_lexer": "ipython3",
   "version": "3.9.7"
  }
 },
 "nbformat": 4,
 "nbformat_minor": 5
}
