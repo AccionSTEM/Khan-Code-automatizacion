{
 "cells": [
  {
   "cell_type": "code",
   "execution_count": 19,
   "id": "adb47188",
   "metadata": {},
   "outputs": [],
   "source": [
    "from selenium import webdriver\n",
    "import pandas as pd\n",
    "import xlwt\n",
    "import time\n",
    "import csv\n",
    "import datetime"
   ]
  },
  {
   "cell_type": "code",
   "execution_count": null,
   "id": "d7b33cdc",
   "metadata": {},
   "outputs": [],
   "source": [
    "#driver.find_element_by_xpath('').send_keys()\n",
    "#driver.find_element_by_xpath('').click()"
   ]
  },
  {
   "cell_type": "code",
   "execution_count": null,
   "id": "8149ac54",
   "metadata": {},
   "outputs": [],
   "source": [
    "driver = webdriver.Chrome('webdriver//chromedriver.exe')"
   ]
  },
  {
   "cell_type": "markdown",
   "id": "a1bf994c",
   "metadata": {},
   "source": [
    "# Creación cursos CODE"
   ]
  },
  {
   "cell_type": "code",
   "execution_count": null,
   "id": "fd9ae018",
   "metadata": {},
   "outputs": [],
   "source": [
    "#login CODE\n",
    "driver.get('https://studio.code.org/home')\n",
    "password = \"\"\n",
    "email = \"\"\n",
    "driver.find_element_by_xpath('//*[@id=\"user_login\"]').send_keys(email)\n",
    "driver.find_element_by_xpath('//*[@id=\"user_password\"]').send_keys(password)\n",
    "driver.find_element_by_xpath('//*[@id=\"signin-button\"]').click()"
   ]
  },
  {
   "cell_type": "code",
   "execution_count": null,
   "id": "e3f125db",
   "metadata": {},
   "outputs": [],
   "source": [
    "#ejecución creacion cursos CODE\n",
    "df = pd.read_excel('codigo_cursos.xls')\n",
    "resultados_CODE= open(\"codigosCode.txt\",\"w+\")\n",
    "resultados_CODE.write(\"EE,Codigo Code \\r\")\n",
    "for i in range (1,df.shape[0]):\n",
    "    select = df.iat[i,0]\n",
    "    curso = select[0:-1]\n",
    "    #create section\n",
    "    driver.find_element_by_xpath('//*[@id=\"classroom-sections\"]/div[1]/div[2]/div[1]/div/button').click()\n",
    "    driver.find_element_by_xpath('//*[@id=\"classroom-sections\"]/div[4]/div[2]/div/div/div/h1').click()\n",
    "    #type of student login\n",
    "    driver.find_element_by_xpath('//*[@id=\"classroom-sections\"]/div[4]/div[2]/div/div/div/div[1]/div[1]/div[3]').click()\n",
    "    #section name \n",
    "    driver.find_element_by_xpath('//*[@id=\"uitest-section-name\"]').send_keys(curso)\n",
    "    #grade\n",
    "    driver.find_element_by_xpath('//*[@id=\"classroom-sections\"]/div[4]/div[2]/div/div/div/div[1]/div[2]/select').click()\n",
    "    #grade selection\n",
    "    driver.find_element_by_xpath('//*[@id=\"classroom-sections\"]/div[4]/div[2]/div/div/div/div[1]/div[2]/select/option[13]').click()\n",
    "    #course\n",
    "    driver.find_element_by_xpath('//*[@id=\"uitest-assignment-family\"]').click()\n",
    "    driver.find_element_by_xpath('//*[@id=\"uitest-assignment-family\"]/optgroup[2]/option[4]').click()\n",
    "    #save\n",
    "    driver.find_element_by_xpath('//*[@id=\"classroom-sections\"]/div[4]/div[2]/div/div/div/div[2]/div[2]/div/div[2]').click()\n",
    "    time.sleep(3)\n",
    "    elem = driver.find_element_by_xpath('//*[@id=\"classroom-sections\"]/div[2]/div[2]/div/div/div/table/tbody/tr[1]/td[6]/a')\n",
    "    resultados.write( curso+\",\"+elem.text+\"\\r\")\n",
    "resultados.close()"
   ]
  },
  {
   "cell_type": "markdown",
   "id": "f68da3e8",
   "metadata": {},
   "source": [
    "# Creación cursos Khan Academy"
   ]
  },
  {
   "cell_type": "code",
   "execution_count": null,
   "id": "57967e4f",
   "metadata": {},
   "outputs": [],
   "source": [
    "#Login Khan Academy\n",
    "driver.get('https://es.khanacademy.org/login')\n",
    "password = \"\"\n",
    "email = \"\"\n",
    "driver.find_element_by_xpath('//*[@id=\"uid-login-form-0-wb-id-identifier-field\"]').send_keys(email)\n",
    "driver.find_element_by_xpath('//*[@id=\"uid-labeled-text-field-1-wb-id-field\"]').send_keys(password)\n",
    "driver.find_element_by_xpath('//*[@id=\"app-shell-root\"]/div/div[3]/div/div[3]/section[2]/div/div/form/button').click()"
   ]
  },
  {
   "cell_type": "code",
   "execution_count": null,
   "id": "179b0dd9",
   "metadata": {},
   "outputs": [],
   "source": [
    "driver.find_element_by_xpath('//*[@id=\"app-shell-root\"]/div/div[4]/div/div[3]/div[2]/div[1]/div[1]/div').click()\n"
   ]
  },
  {
   "cell_type": "code",
   "execution_count": null,
   "id": "6ca590a3",
   "metadata": {},
   "outputs": [],
   "source": [
    "driver.find_element_by_xpath('//*[@id=\"uid-labeled-text-field-15-wb-id-field\"]').send_keys(\"test\")\n",
    "driver.find_element_by_xpath('//*[@id=\"app-shell-root\"]/div/div[4]/div/div[3]/div[2]/div[1]/div[1]/div/div/div[1]/div/div[2]/div[3]/div[2]/button').click()"
   ]
  },
  {
   "cell_type": "code",
   "execution_count": null,
   "id": "6fa0fd96",
   "metadata": {},
   "outputs": [],
   "source": [
    "driver.find_element_by_class_name('//*[@id=\"app-shell-root\"]/div/div[4]/div/div[3]/div[2]/div[1]/div[1]/div/div/div[1]/div/div[2]/div[3]/div[2]/button').click()"
   ]
  },
  {
   "cell_type": "code",
   "execution_count": null,
   "id": "ab8cc42d",
   "metadata": {},
   "outputs": [],
   "source": [
    "#ejecucion creacion cursos KHAN ACADEMY\n",
    "df = pd.read_excel('codigo_cursos.xls')\n",
    "resultados_KhanAcademy= open(\"codigosKhan.txt\",\"w+\")\n",
    "resultados_KhanAcademy.write(\"EE,Codigo KhanAcademy \\r\")\n",
    "for i in range (5,df.shape[0]):\n",
    "    select = df.iat[i,0]\n",
    "    curso = select[0:-1]\n",
    "    time.sleep(3)\n",
    "    driver.find_element_by_xpath('//*[@id=\"app-shell-root\"]/div/div[4]/div/div[3]/div[2]/div[1]/div[1]/div').click()\n",
    "    time.sleep(3)\n",
    "    driver.find_element_by_xpath('/html/body/div/div[3]/div/div[2]/div/div/div[4]/div/div[3]/div[2]/div[1]/div[1]/div/div/div[1]/div/div[2]/div[2]/div/div/div/div[1]/div/div/div[2]/input').send_keys(curso)\n",
    "    time.sleep(3)\n",
    "    driver.find_element_by_xpath('//*[@id=\"app-shell-root\"]/div/div[4]/div/div[3]/div[2]/div[1]/div[1]/div/div/div[1]/div/div[2]/div[3]/div[2]/button').click()\n",
    "    time.sleep(3)\n",
    "    driver.find_element_by_xpath('//*[@id=\"app-shell-root\"]/div/div[4]/div/div[3]/div[2]/div[1]/div[1]/div/div/div[1]/div/div[2]/div[3]/div[2]/button[1]').click()\n",
    "    time.sleep(3)\n",
    "    driver.find_element_by_xpath('//*[@id=\"app-shell-root\"]/div/div[4]/div/div[3]/div[2]/div[1]/div[1]/div/div/div[1]/div/div[2]/div[3]/div[2]/button').click()\n",
    "    time.sleep(3)\n",
    "    driver.find_element_by_xpath('//*[@id=\"app-shell-root\"]/div/div[4]/div/div[3]/div[2]/div[1]/div[1]/div/div/div[1]/div/div[2]/div[3]/div[2]/button[1]').click()\n",
    "    time.sleep(10)\n",
    "    elem = driver.find_element_by_xpath('//*[@id=\"class-shell\"]/div/div[2]/div[2]/div[2]/div[1]/h4')\n",
    "    resultados_KhanAcademy.write( curso+\",\"+elem.text+\"\\r\")\n",
    "    driver.get('https://es.khanacademy.org/teacher/dashboard')\n",
    "    time.sleep(2)"
   ]
  },
  {
   "cell_type": "code",
   "execution_count": null,
   "id": "e586d76d",
   "metadata": {},
   "outputs": [],
   "source": [
    "#transformación de códigos en excel\n",
    "def txt_xls(filename,xlsname):\n",
    "    try:\n",
    "        f = open(filename) \n",
    "        xls=xlwt.Workbook()\n",
    "                 # Método para generar Excel, declarar Excel\n",
    "        sheet = xls.add_sheet('sheet1',cell_overwrite_ok=True) \n",
    "        x = 0 \n",
    "        while True:\n",
    "                         # Ciclo por línea, leer archivo de texto\n",
    "            line = f.readline() \n",
    "            if not line: \n",
    "                break; #Si no hay contenido, salga del bucle\n",
    "            for i in range(len(line.split(','))):\n",
    "                item=line.split(',')[i]\n",
    "                sheet.write (x, i, item) #x longitud de celda, i latitud de celda\n",
    "            x = x + 1 #excel comienza una nueva línea\n",
    "        f.close()\n",
    "        xls.save (xlsname) #Guardar archivo xls\n",
    "    except:\n",
    "        raise"
   ]
  },
  {
   "cell_type": "code",
   "execution_count": null,
   "id": "c19a25c4",
   "metadata": {},
   "outputs": [],
   "source": [
    "#txt_xls(\"codigosCODE.txt\",\"codigos_CODE_cursos_resultado.xls\")\n",
    "txt_xls(\"codigosKhan.txt\",\"codigos_KHAN_cursos_resultado.xls\")"
   ]
  },
  {
   "cell_type": "code",
   "execution_count": null,
   "id": "aaedac8d",
   "metadata": {},
   "outputs": [],
   "source": [
    "#create section\n",
    "driver.find_element_by_xpath('//*[@id=\"classroom-sections\"]/div[1]/div[2]/div[1]/div/button').click()\n",
    "driver.find_element_by_xpath('//*[@id=\"classroom-sections\"]/div[4]/div[2]/div/div/div/h1').click()\n",
    "#type of student login\n",
    "driver.find_element_by_xpath('//*[@id=\"classroom-sections\"]/div[4]/div[2]/div/div/div/div[1]/div[1]/div[3]').click()"
   ]
  },
  {
   "cell_type": "code",
   "execution_count": null,
   "id": "d61b0470",
   "metadata": {},
   "outputs": [],
   "source": [
    "#section name \n",
    "driver.find_element_by_xpath('//*[@id=\"uitest-section-name\"]').send_keys(\"LBGM3B\")\n",
    "#grade\n",
    "driver.find_element_by_xpath('//*[@id=\"classroom-sections\"]/div[4]/div[2]/div/div/div/div[1]/div[2]/select').click()\n",
    "#grade selection\n",
    "driver.find_element_by_xpath('//*[@id=\"classroom-sections\"]/div[4]/div[2]/div/div/div/div[1]/div[2]/select/option[13]').click()\n",
    "#course\n",
    "driver.find_element_by_xpath('//*[@id=\"uitest-assignment-family\"]').click()\n",
    "driver.find_element_by_xpath('//*[@id=\"uitest-assignment-family\"]/optgroup[2]/option[4]').click()\n",
    "driver.manage().timeouts().implicitlyWait(3, TimeUnit.SECONDS);\n",
    "#save\n",
    "driver.find_element_by_xpath('//*[@id=\"classroom-sections\"]/div[4]/div[2]/div/div/div/div[2]/div[2]/div/div[2]').click()"
   ]
  },
  {
   "cell_type": "markdown",
   "id": "65abaa1e",
   "metadata": {},
   "source": [
    "# Khan Academy -Estadisticas asociadas"
   ]
  },
  {
   "cell_type": "markdown",
   "id": "a3269b78",
   "metadata": {},
   "source": [
    "## urls:\n",
    "\n",
    "- https://www.khanacademy.org/teacher/class/B8R2QYTZ/overview/activity\n",
    "- https://www.khanacademy.org/teacher/class/SK8AVS6T/overview/activity\n",
    "- https://www.khanacademy.org/teacher/class/SNFD6RAV/overview/activity\n",
    "- https://www.khanacademy.org/teacher/class/4BDG3KYZ/overview/activity\n",
    "- https://www.khanacademy.org/teacher/class/PE4HKFPJ/overview/activity\n",
    "- https://www.khanacademy.org/teacher/class/FUDFPMJP/overview/activity\n",
    "- https://www.khanacademy.org/teacher/class/FUDFPMJP/overview/activity\n",
    "- https://www.khanacademy.org/teacher/class/Z5GBVS8T/overview/activity\n",
    "- https://www.khanacademy.org/teacher/class/VFQDGQ7C/overview/activity\n",
    "- https://www.khanacademy.org/teacher/class/EUX423PU/overview/activity"
   ]
  },
  {
   "cell_type": "code",
   "execution_count": 5,
   "id": "4117f9d4",
   "metadata": {},
   "outputs": [],
   "source": [
    "driver.get(\"https://www.khanacademy.org/teacher/class/SNFD6RAV/overview/activity\")"
   ]
  },
  {
   "cell_type": "code",
   "execution_count": 17,
   "id": "59cea1e8",
   "metadata": {},
   "outputs": [],
   "source": [
    "escuela = driver.find_element_by_xpath('//*[@id=\"class-shell\"]/div/div[1]/div[1]/div[1]/div/h4').text"
   ]
  },
  {
   "cell_type": "code",
   "execution_count": 52,
   "id": "a830fa1d",
   "metadata": {},
   "outputs": [
    {
     "data": {
      "text/plain": [
       "'Last 7 days'"
      ]
     },
     "execution_count": 52,
     "metadata": {},
     "output_type": "execute_result"
    }
   ],
   "source": [
    "tipo = driver.find_element_by_xpath('//*[@id=\"class-shell\"]/div/div[2]/div[3]/div[2]/div[1]/div/div/button/span').text\n",
    "tipo"
   ]
  },
  {
   "cell_type": "code",
   "execution_count": 53,
   "id": "031e94b1",
   "metadata": {},
   "outputs": [],
   "source": [
    "driver.find_element_by_xpath('//*[@id=\"class-shell\"]/div/div[2]/div[3]/div[2]/div[1]/div/div/button').click()\n",
    "ta"
   ]
  },
  {
   "cell_type": "code",
   "execution_count": 107,
   "id": "af434e85",
   "metadata": {},
   "outputs": [],
   "source": [
    "def verification(lista):\n",
    "    sum = 0\n",
    "    for i in tab:\n",
    "        if type(i)=='int':\n",
    "            sum= sum+1\n",
    "    if (sum > 0):\n",
    "        return True\n",
    "    return False"
   ]
  },
  {
   "cell_type": "code",
   "execution_count": 79,
   "id": "2aa7fb21",
   "metadata": {},
   "outputs": [
    {
     "ename": "TypeError",
     "evalue": "unsupported operand type(s) for +: 'int' and 'str'",
     "output_type": "error",
     "traceback": [
      "\u001b[1;31m---------------------------------------------------------------------------\u001b[0m",
      "\u001b[1;31mTypeError\u001b[0m                                 Traceback (most recent call last)",
      "\u001b[1;32m~\\AppData\\Local\\Temp/ipykernel_10752/2964075633.py\u001b[0m in \u001b[0;36m<module>\u001b[1;34m\u001b[0m\n\u001b[1;32m----> 1\u001b[1;33m \u001b[0msum\u001b[0m\u001b[1;33m(\u001b[0m\u001b[0mtab\u001b[0m\u001b[1;33m[\u001b[0m\u001b[1;36m4\u001b[0m\u001b[1;33m:\u001b[0m\u001b[1;36m20\u001b[0m\u001b[1;33m]\u001b[0m\u001b[1;33m)\u001b[0m\u001b[1;33m\u001b[0m\u001b[1;33m\u001b[0m\u001b[0m\n\u001b[0m",
      "\u001b[1;31mTypeError\u001b[0m: unsupported operand type(s) for +: 'int' and 'str'"
     ]
    }
   ],
   "source": [
    "sum(tab[4:20])"
   ]
  },
  {
   "cell_type": "code",
   "execution_count": 91,
   "id": "88c2448c",
   "metadata": {},
   "outputs": [
    {
     "data": {
      "text/html": [
       "<div>\n",
       "<style scoped>\n",
       "    .dataframe tbody tr th:only-of-type {\n",
       "        vertical-align: middle;\n",
       "    }\n",
       "\n",
       "    .dataframe tbody tr th {\n",
       "        vertical-align: top;\n",
       "    }\n",
       "\n",
       "    .dataframe thead th {\n",
       "        text-align: right;\n",
       "    }\n",
       "</style>\n",
       "<table border=\"1\" class=\"dataframe\">\n",
       "  <thead>\n",
       "    <tr style=\"text-align: right;\">\n",
       "      <th></th>\n",
       "      <th>Código Escuela</th>\n",
       "      <th>Fecha Script</th>\n",
       "      <th>Intervalo</th>\n",
       "      <th>Suma minutos</th>\n",
       "      <th>Skills Mejoradas</th>\n",
       "      <th>Progreso y habilidades</th>\n",
       "    </tr>\n",
       "  </thead>\n",
       "  <tbody>\n",
       "  </tbody>\n",
       "</table>\n",
       "</div>"
      ],
      "text/plain": [
       "Empty DataFrame\n",
       "Columns: [Código Escuela, Fecha Script, Intervalo, Suma minutos, Skills Mejoradas, Progreso y habilidades]\n",
       "Index: []"
      ]
     },
     "execution_count": 91,
     "metadata": {},
     "output_type": "execute_result"
    }
   ],
   "source": [
    "#dataframe estadisticas\n",
    "columnas = ['Código Escuela','Fecha Script','Intervalo','Suma minutos','Skills Mejoradas','Progreso y habilidades']\n",
    "df = pd.DataFrame(columns=columnas)\n",
    "df"
   ]
  },
  {
   "cell_type": "code",
   "execution_count": 122,
   "id": "16a41e26",
   "metadata": {},
   "outputs": [],
   "source": [
    "driver = webdriver.Chrome('webdriver//chromedriver.exe')\n",
    "driver.get(\"https://www.khanacademy.org/teacher/class/SNFD6RAV/overview/activity\")\n",
    "driver.find_element_by_xpath('//*[@id=\"uid-login-form-0-wb-id-identifier-field\"]').send_keys(usr)\n",
    "driver.find_element_by_xpath('//*[@id=\"uid-labeled-text-field-1-wb-id-field\"]').send_keys(psw)\n",
    "driver.find_element_by_xpath('//*[@id=\"app-shell-root\"]/div/div[4]/div/div[3]/section[2]/div/div/form/button').click()"
   ]
  },
  {
   "cell_type": "code",
   "execution_count": 123,
   "id": "f9a91236",
   "metadata": {},
   "outputs": [
    {
     "name": "stdout",
     "output_type": "stream",
     "text": [
      "inicia un ciclo\n",
      "Empty DataFrame\n",
      "Columns: [STUDENT, agustinaguayoe, amandasuazor, conzuelolopezc]\n",
      "Index: []\n",
      "inicia un ciclo\n",
      "Empty DataFrame\n",
      "Columns: [STUDENT, agustinaravenam, allisonsepulvedaf, angelalopezc]\n",
      "Index: []\n",
      "inicia un ciclo\n",
      "Empty DataFrame\n",
      "Columns: [STUDENT, adisonplacenciapereira, agustinaalvarezlopez, agustinjimenezcruces]\n",
      "Index: []\n",
      "inicia un ciclo\n",
      "Empty DataFrame\n",
      "Columns: [STUDENT, alejandrovillanueva, benllaminsantander, franchescaneira]\n",
      "Index: []\n",
      "inicia un ciclo\n",
      "Empty DataFrame\n",
      "Columns: [STUDENT, angelaespinoza, angelmesa, angelmontecinos]\n",
      "Index: []\n",
      "inicia un ciclo\n",
      "Empty DataFrame\n",
      "Columns: [STUDENT, angelaespinoza, angelmesa, angelmontecinos]\n",
      "Index: []\n",
      "inicia un ciclo\n",
      "Empty DataFrame\n",
      "Columns: [STUDENT, ALBORNOZG.LEANDRO, ARANDAM.DANNAE, ARANEDAF.NAIRA]\n",
      "Index: []\n",
      "inicia un ciclo\n",
      "Empty DataFrame\n",
      "Columns: [STUDENT, ACOSTA.ANTONELLA1C, ADRIASOLA.TOMAS1C, AGUILA.KATHERINE1C]\n",
      "Index: []\n",
      "inicia un ciclo\n",
      "Empty DataFrame\n",
      "Columns: [STUDENT, AGUAYO PINO .GENESIS, BASTIDASP.CONSTANZA, CARREÑO G.ANGELA]\n",
      "Index: []\n"
     ]
    }
   ],
   "source": [
    "## script 7 días\n",
    "cursos = [\"B8R2QYTZ\",\"SK8AVS6T\",\"4BDG3KYZ\",\"PE4HKFPJ\",\"FUDFPMJP\",\"FUDFPMJP\",\"Z5GBVS8T\",\"VFQDGQ7C\",\"EUX423PU\"]\n",
    "fecha = datetime.datetime.now()\n",
    "for i in cursos:\n",
    "    print(\"inicia un ciclo\")\n",
    "    driver.get(\"https://www.khanacademy.org/teacher/class/\"+i+\"/overview/activity\")\n",
    "    time.sleep(6)\n",
    "    escuela = driver.find_element_by_xpath('//*[@id=\"class-shell\"]/div/div[1]/div[1]/div[1]/div/h4').text\n",
    "    tipo = driver.find_element_by_xpath('//*[@id=\"class-shell\"]/div/div[2]/div[3]/div[2]/div[1]/div/div/button/span').text\n",
    "    time.sleep(2)\n",
    "    table = driver.find_element_by_xpath('//*[@id=\"class-shell\"]/div/div[2]/div[3]/div[2]/div[3]/div/div').text\n",
    "    tab = table.split(\"\\n\")\n",
    "    columnas = [tab[0],tab[1],tab[2],tab[3]]\n",
    "    df4 = pd.DataFrame(columns = columnas)\n",
    "    print(df4)\n",
    "    output=[tab[i:i + 4] for i in range(4, len(tab), 4)]\n",
    "    if verification(tab) :\n",
    "        for j in range (0,len(output)):\n",
    "            df4.loc[j] = output[j]\n",
    "        sumaMinutos = df4['TOTAL LEARNING MINUTES'].astype(int).sum()\n",
    "        sumaSkills = df4['SKILLS LEVELED UP'].astype(int).sum()\n",
    "        sumaWOProgress = df4['SKILLS W/O PROGRESS'].astype(int).sum()\n",
    "        time.sleep(2)\n",
    "    sumaMinutos = 0\n",
    "    sumaSkills = 0\n",
    "    sumaWOProgress=0\n",
    "    df=df.append({'Código Escuela' : escuela , 'Fecha Script' : fecha, 'Intervalo' : tipo, 'Suma minutos': sumaMinutos,'Skills Mejoradas':sumaSkills,'Progreso y habilidades':sumaWOProgress} , ignore_index=True)\n",
    "    time.sleep(3)"
   ]
  },
  {
   "cell_type": "code",
   "execution_count": 45,
   "id": "a214aac1",
   "metadata": {},
   "outputs": [
    {
     "name": "stdout",
     "output_type": "stream",
     "text": [
      "1\n"
     ]
    }
   ],
   "source": [
    "for j in range(1,2):\n",
    "    print(j)"
   ]
  },
  {
   "cell_type": "code",
   "execution_count": 116,
   "id": "3a1f404f",
   "metadata": {},
   "outputs": [
    {
     "data": {
      "text/plain": [
       "['STUDENT',\n",
       " 'AGUAYO PINO .GENESIS',\n",
       " 'BASTIDASP.CONSTANZA',\n",
       " 'CARREÑO G.ANGELA',\n",
       " 'CARREÑO O. ALISON',\n",
       " 'CORNEJO ARAYA. MARTÍN',\n",
       " 'DIAZ PERNIA .JUAN ANDRES',\n",
       " 'GALLARDO S. ALYSON',\n",
       " 'GALLARDOS.SOFÍA',\n",
       " 'GONZÁLEZM .BENJAMÍN',\n",
       " 'GUERREROS.MATÍAS',\n",
       " 'GutierrezP.Oriana',\n",
       " 'LLEUFO JELDRES. DAFNE',\n",
       " 'LÓPEZC.FABIÁN',\n",
       " 'MIRANDAH. FABIANA',\n",
       " 'NARVAEZC.ROSE',\n",
       " 'OLIVARES J. FELIPE',\n",
       " 'peraltao.antonia',\n",
       " 'PINOM.MAXIMILIANO',\n",
       " 'rehla.francisca',\n",
       " 'REYESBARRIOS .AMIR',\n",
       " 'SANTANAARAVENA .ANAIS',\n",
       " 'senam.juan',\n",
       " 'VALDÉSS. VALENTINA',\n",
       " 'VARGASM. VALENTINA',\n",
       " 'VELASQUEZF.CELESTE',\n",
       " 'VÁSQUEZ M .BENJAMÍN',\n",
       " 'TOTAL LEARNING MINUTES',\n",
       " 'SKILLS LEVELED UP',\n",
       " 'SKILLS W/O PROGRESS',\n",
       " '0',\n",
       " '0',\n",
       " '0',\n",
       " '0',\n",
       " '0',\n",
       " '0',\n",
       " '0',\n",
       " '0',\n",
       " '0',\n",
       " '0',\n",
       " '0',\n",
       " '0',\n",
       " '0',\n",
       " '0',\n",
       " '0',\n",
       " '0',\n",
       " '0',\n",
       " '0',\n",
       " '0',\n",
       " '0',\n",
       " '0',\n",
       " '0',\n",
       " '0',\n",
       " '0',\n",
       " '0',\n",
       " '0',\n",
       " '0',\n",
       " '0',\n",
       " '0',\n",
       " '0',\n",
       " '0',\n",
       " '0',\n",
       " '0',\n",
       " '0',\n",
       " '0',\n",
       " '0',\n",
       " '0',\n",
       " '0',\n",
       " '0',\n",
       " '0',\n",
       " '0',\n",
       " '0',\n",
       " '0',\n",
       " '0',\n",
       " '0',\n",
       " '0',\n",
       " '0',\n",
       " '0',\n",
       " '0',\n",
       " '0',\n",
       " '0',\n",
       " '0',\n",
       " '0',\n",
       " '0',\n",
       " '0',\n",
       " '0',\n",
       " '0',\n",
       " '0',\n",
       " '0',\n",
       " '0',\n",
       " '0',\n",
       " '0',\n",
       " '0',\n",
       " '0',\n",
       " '0',\n",
       " '0',\n",
       " '0',\n",
       " '0',\n",
       " '0',\n",
       " '0',\n",
       " '0',\n",
       " '0',\n",
       " '0',\n",
       " '0',\n",
       " '0',\n",
       " '0',\n",
       " '0',\n",
       " '0']"
      ]
     },
     "execution_count": 116,
     "metadata": {},
     "output_type": "execute_result"
    }
   ],
   "source": [
    "tab"
   ]
  },
  {
   "cell_type": "code",
   "execution_count": 99,
   "id": "ccbfe88d",
   "metadata": {},
   "outputs": [
    {
     "ename": "KeyError",
     "evalue": "'SKILLS LEVELED UP'",
     "output_type": "error",
     "traceback": [
      "\u001b[1;31m---------------------------------------------------------------------------\u001b[0m",
      "\u001b[1;31mKeyError\u001b[0m                                  Traceback (most recent call last)",
      "\u001b[1;32m~\\anaconda3\\lib\\site-packages\\pandas\\core\\indexes\\base.py\u001b[0m in \u001b[0;36mget_loc\u001b[1;34m(self, key, method, tolerance)\u001b[0m\n\u001b[0;32m   3360\u001b[0m             \u001b[1;32mtry\u001b[0m\u001b[1;33m:\u001b[0m\u001b[1;33m\u001b[0m\u001b[1;33m\u001b[0m\u001b[0m\n\u001b[1;32m-> 3361\u001b[1;33m                 \u001b[1;32mreturn\u001b[0m \u001b[0mself\u001b[0m\u001b[1;33m.\u001b[0m\u001b[0m_engine\u001b[0m\u001b[1;33m.\u001b[0m\u001b[0mget_loc\u001b[0m\u001b[1;33m(\u001b[0m\u001b[0mcasted_key\u001b[0m\u001b[1;33m)\u001b[0m\u001b[1;33m\u001b[0m\u001b[1;33m\u001b[0m\u001b[0m\n\u001b[0m\u001b[0;32m   3362\u001b[0m             \u001b[1;32mexcept\u001b[0m \u001b[0mKeyError\u001b[0m \u001b[1;32mas\u001b[0m \u001b[0merr\u001b[0m\u001b[1;33m:\u001b[0m\u001b[1;33m\u001b[0m\u001b[1;33m\u001b[0m\u001b[0m\n",
      "\u001b[1;32m~\\anaconda3\\lib\\site-packages\\pandas\\_libs\\index.pyx\u001b[0m in \u001b[0;36mpandas._libs.index.IndexEngine.get_loc\u001b[1;34m()\u001b[0m\n",
      "\u001b[1;32m~\\anaconda3\\lib\\site-packages\\pandas\\_libs\\index.pyx\u001b[0m in \u001b[0;36mpandas._libs.index.IndexEngine.get_loc\u001b[1;34m()\u001b[0m\n",
      "\u001b[1;32mpandas\\_libs\\hashtable_class_helper.pxi\u001b[0m in \u001b[0;36mpandas._libs.hashtable.PyObjectHashTable.get_item\u001b[1;34m()\u001b[0m\n",
      "\u001b[1;32mpandas\\_libs\\hashtable_class_helper.pxi\u001b[0m in \u001b[0;36mpandas._libs.hashtable.PyObjectHashTable.get_item\u001b[1;34m()\u001b[0m\n",
      "\u001b[1;31mKeyError\u001b[0m: 'SKILLS LEVELED UP'",
      "\nThe above exception was the direct cause of the following exception:\n",
      "\u001b[1;31mKeyError\u001b[0m                                  Traceback (most recent call last)",
      "\u001b[1;32m~\\AppData\\Local\\Temp/ipykernel_10752/1861125145.py\u001b[0m in \u001b[0;36m<module>\u001b[1;34m\u001b[0m\n\u001b[1;32m----> 1\u001b[1;33m \u001b[0mdf3\u001b[0m\u001b[1;33m[\u001b[0m\u001b[1;34m'SKILLS LEVELED UP'\u001b[0m\u001b[1;33m]\u001b[0m\u001b[1;33m.\u001b[0m\u001b[0mastype\u001b[0m\u001b[1;33m(\u001b[0m\u001b[0mint\u001b[0m\u001b[1;33m)\u001b[0m\u001b[1;33m.\u001b[0m\u001b[0msum\u001b[0m\u001b[1;33m(\u001b[0m\u001b[1;33m)\u001b[0m\u001b[1;33m\u001b[0m\u001b[1;33m\u001b[0m\u001b[0m\n\u001b[0m",
      "\u001b[1;32m~\\anaconda3\\lib\\site-packages\\pandas\\core\\frame.py\u001b[0m in \u001b[0;36m__getitem__\u001b[1;34m(self, key)\u001b[0m\n\u001b[0;32m   3456\u001b[0m             \u001b[1;32mif\u001b[0m \u001b[0mself\u001b[0m\u001b[1;33m.\u001b[0m\u001b[0mcolumns\u001b[0m\u001b[1;33m.\u001b[0m\u001b[0mnlevels\u001b[0m \u001b[1;33m>\u001b[0m \u001b[1;36m1\u001b[0m\u001b[1;33m:\u001b[0m\u001b[1;33m\u001b[0m\u001b[1;33m\u001b[0m\u001b[0m\n\u001b[0;32m   3457\u001b[0m                 \u001b[1;32mreturn\u001b[0m \u001b[0mself\u001b[0m\u001b[1;33m.\u001b[0m\u001b[0m_getitem_multilevel\u001b[0m\u001b[1;33m(\u001b[0m\u001b[0mkey\u001b[0m\u001b[1;33m)\u001b[0m\u001b[1;33m\u001b[0m\u001b[1;33m\u001b[0m\u001b[0m\n\u001b[1;32m-> 3458\u001b[1;33m             \u001b[0mindexer\u001b[0m \u001b[1;33m=\u001b[0m \u001b[0mself\u001b[0m\u001b[1;33m.\u001b[0m\u001b[0mcolumns\u001b[0m\u001b[1;33m.\u001b[0m\u001b[0mget_loc\u001b[0m\u001b[1;33m(\u001b[0m\u001b[0mkey\u001b[0m\u001b[1;33m)\u001b[0m\u001b[1;33m\u001b[0m\u001b[1;33m\u001b[0m\u001b[0m\n\u001b[0m\u001b[0;32m   3459\u001b[0m             \u001b[1;32mif\u001b[0m \u001b[0mis_integer\u001b[0m\u001b[1;33m(\u001b[0m\u001b[0mindexer\u001b[0m\u001b[1;33m)\u001b[0m\u001b[1;33m:\u001b[0m\u001b[1;33m\u001b[0m\u001b[1;33m\u001b[0m\u001b[0m\n\u001b[0;32m   3460\u001b[0m                 \u001b[0mindexer\u001b[0m \u001b[1;33m=\u001b[0m \u001b[1;33m[\u001b[0m\u001b[0mindexer\u001b[0m\u001b[1;33m]\u001b[0m\u001b[1;33m\u001b[0m\u001b[1;33m\u001b[0m\u001b[0m\n",
      "\u001b[1;32m~\\anaconda3\\lib\\site-packages\\pandas\\core\\indexes\\base.py\u001b[0m in \u001b[0;36mget_loc\u001b[1;34m(self, key, method, tolerance)\u001b[0m\n\u001b[0;32m   3361\u001b[0m                 \u001b[1;32mreturn\u001b[0m \u001b[0mself\u001b[0m\u001b[1;33m.\u001b[0m\u001b[0m_engine\u001b[0m\u001b[1;33m.\u001b[0m\u001b[0mget_loc\u001b[0m\u001b[1;33m(\u001b[0m\u001b[0mcasted_key\u001b[0m\u001b[1;33m)\u001b[0m\u001b[1;33m\u001b[0m\u001b[1;33m\u001b[0m\u001b[0m\n\u001b[0;32m   3362\u001b[0m             \u001b[1;32mexcept\u001b[0m \u001b[0mKeyError\u001b[0m \u001b[1;32mas\u001b[0m \u001b[0merr\u001b[0m\u001b[1;33m:\u001b[0m\u001b[1;33m\u001b[0m\u001b[1;33m\u001b[0m\u001b[0m\n\u001b[1;32m-> 3363\u001b[1;33m                 \u001b[1;32mraise\u001b[0m \u001b[0mKeyError\u001b[0m\u001b[1;33m(\u001b[0m\u001b[0mkey\u001b[0m\u001b[1;33m)\u001b[0m \u001b[1;32mfrom\u001b[0m \u001b[0merr\u001b[0m\u001b[1;33m\u001b[0m\u001b[1;33m\u001b[0m\u001b[0m\n\u001b[0m\u001b[0;32m   3364\u001b[0m \u001b[1;33m\u001b[0m\u001b[0m\n\u001b[0;32m   3365\u001b[0m         \u001b[1;32mif\u001b[0m \u001b[0mis_scalar\u001b[0m\u001b[1;33m(\u001b[0m\u001b[0mkey\u001b[0m\u001b[1;33m)\u001b[0m \u001b[1;32mand\u001b[0m \u001b[0misna\u001b[0m\u001b[1;33m(\u001b[0m\u001b[0mkey\u001b[0m\u001b[1;33m)\u001b[0m \u001b[1;32mand\u001b[0m \u001b[1;32mnot\u001b[0m \u001b[0mself\u001b[0m\u001b[1;33m.\u001b[0m\u001b[0mhasnans\u001b[0m\u001b[1;33m:\u001b[0m\u001b[1;33m\u001b[0m\u001b[1;33m\u001b[0m\u001b[0m\n",
      "\u001b[1;31mKeyError\u001b[0m: 'SKILLS LEVELED UP'"
     ]
    }
   ],
   "source": [
    "df3['SKILLS LEVELED UP'].astype(int).sum()"
   ]
  },
  {
   "cell_type": "code",
   "execution_count": 40,
   "id": "e834c485",
   "metadata": {},
   "outputs": [],
   "source": [
    "sumaMinutos = df3['TOTAL LEARNING MINUTES'].astype(int).sum()\n",
    "sumaSkills = df3['SKILLS LEVELED UP'].astype(int).sum()\n",
    "sumaWOProgress = df3['SKILLS W/O PROGRESS'].astype(int).sum()\n",
    "fecha = datetime.datetime.now()\n",
    "time.sleep(2)\n",
    "df=df.append({'Código Escuela' : escuela , 'Fecha Script' : fecha, 'Intervalo' : tipo, 'Suma minutos': sumaMinutos,'Skills Mejoradas':sumaSkills,'Progreso y habilidades':sumaWOProgress} , ignore_index=True)"
   ]
  },
  {
   "cell_type": "code",
   "execution_count": 124,
   "id": "fd59563c",
   "metadata": {},
   "outputs": [
    {
     "data": {
      "text/html": [
       "<div>\n",
       "<style scoped>\n",
       "    .dataframe tbody tr th:only-of-type {\n",
       "        vertical-align: middle;\n",
       "    }\n",
       "\n",
       "    .dataframe tbody tr th {\n",
       "        vertical-align: top;\n",
       "    }\n",
       "\n",
       "    .dataframe thead th {\n",
       "        text-align: right;\n",
       "    }\n",
       "</style>\n",
       "<table border=\"1\" class=\"dataframe\">\n",
       "  <thead>\n",
       "    <tr style=\"text-align: right;\">\n",
       "      <th></th>\n",
       "      <th>Código Escuela</th>\n",
       "      <th>Fecha Script</th>\n",
       "      <th>Intervalo</th>\n",
       "      <th>Suma minutos</th>\n",
       "      <th>Skills Mejoradas</th>\n",
       "      <th>Progreso y habilidades</th>\n",
       "    </tr>\n",
       "  </thead>\n",
       "  <tbody>\n",
       "    <tr>\n",
       "      <th>0</th>\n",
       "      <td>EN-3BA-2022</td>\n",
       "      <td>2022-06-14 16:11:26.030870</td>\n",
       "      <td>Last 7 days</td>\n",
       "      <td>0</td>\n",
       "      <td>0</td>\n",
       "      <td>0</td>\n",
       "    </tr>\n",
       "    <tr>\n",
       "      <th>1</th>\n",
       "      <td>EN-4BA-2022</td>\n",
       "      <td>2022-06-14 16:11:26.030870</td>\n",
       "      <td>Last 7 days</td>\n",
       "      <td>0</td>\n",
       "      <td>0</td>\n",
       "      <td>0</td>\n",
       "    </tr>\n",
       "    <tr>\n",
       "      <th>2</th>\n",
       "      <td>ENC-8BA-2022: 5th grade</td>\n",
       "      <td>2022-06-14 16:11:26.030870</td>\n",
       "      <td>Last 7 days</td>\n",
       "      <td>0</td>\n",
       "      <td>0</td>\n",
       "      <td>0</td>\n",
       "    </tr>\n",
       "    <tr>\n",
       "      <th>3</th>\n",
       "      <td>ERR-5BA-2022</td>\n",
       "      <td>2022-06-14 16:11:26.030870</td>\n",
       "      <td>Last 7 days</td>\n",
       "      <td>0</td>\n",
       "      <td>0</td>\n",
       "      <td>0</td>\n",
       "    </tr>\n",
       "    <tr>\n",
       "      <th>4</th>\n",
       "      <td>ERR-6BA-2022</td>\n",
       "      <td>2022-06-14 16:11:26.030870</td>\n",
       "      <td>Last 7 days</td>\n",
       "      <td>0</td>\n",
       "      <td>0</td>\n",
       "      <td>0</td>\n",
       "    </tr>\n",
       "    <tr>\n",
       "      <th>5</th>\n",
       "      <td>ERR-6BA-2022</td>\n",
       "      <td>2022-06-14 16:11:26.030870</td>\n",
       "      <td>Last 7 days</td>\n",
       "      <td>0</td>\n",
       "      <td>0</td>\n",
       "      <td>0</td>\n",
       "    </tr>\n",
       "    <tr>\n",
       "      <th>6</th>\n",
       "      <td>LSMB-1MA-2022</td>\n",
       "      <td>2022-06-14 16:11:26.030870</td>\n",
       "      <td>Last 7 days</td>\n",
       "      <td>0</td>\n",
       "      <td>0</td>\n",
       "      <td>0</td>\n",
       "    </tr>\n",
       "    <tr>\n",
       "      <th>7</th>\n",
       "      <td>LSMB-1MC-2022</td>\n",
       "      <td>2022-06-14 16:11:26.030870</td>\n",
       "      <td>Last 7 days</td>\n",
       "      <td>0</td>\n",
       "      <td>0</td>\n",
       "      <td>0</td>\n",
       "    </tr>\n",
       "    <tr>\n",
       "      <th>8</th>\n",
       "      <td>LSMB-1MB-2022</td>\n",
       "      <td>2022-06-14 16:11:26.030870</td>\n",
       "      <td>Last 7 days</td>\n",
       "      <td>0</td>\n",
       "      <td>0</td>\n",
       "      <td>0</td>\n",
       "    </tr>\n",
       "  </tbody>\n",
       "</table>\n",
       "</div>"
      ],
      "text/plain": [
       "            Código Escuela               Fecha Script    Intervalo  \\\n",
       "0              EN-3BA-2022 2022-06-14 16:11:26.030870  Last 7 days   \n",
       "1              EN-4BA-2022 2022-06-14 16:11:26.030870  Last 7 days   \n",
       "2  ENC-8BA-2022: 5th grade 2022-06-14 16:11:26.030870  Last 7 days   \n",
       "3             ERR-5BA-2022 2022-06-14 16:11:26.030870  Last 7 days   \n",
       "4             ERR-6BA-2022 2022-06-14 16:11:26.030870  Last 7 days   \n",
       "5             ERR-6BA-2022 2022-06-14 16:11:26.030870  Last 7 days   \n",
       "6            LSMB-1MA-2022 2022-06-14 16:11:26.030870  Last 7 days   \n",
       "7            LSMB-1MC-2022 2022-06-14 16:11:26.030870  Last 7 days   \n",
       "8            LSMB-1MB-2022 2022-06-14 16:11:26.030870  Last 7 days   \n",
       "\n",
       "  Suma minutos Skills Mejoradas Progreso y habilidades  \n",
       "0            0                0                      0  \n",
       "1            0                0                      0  \n",
       "2            0                0                      0  \n",
       "3            0                0                      0  \n",
       "4            0                0                      0  \n",
       "5            0                0                      0  \n",
       "6            0                0                      0  \n",
       "7            0                0                      0  \n",
       "8            0                0                      0  "
      ]
     },
     "execution_count": 124,
     "metadata": {},
     "output_type": "execute_result"
    }
   ],
   "source": [
    "df"
   ]
  },
  {
   "cell_type": "code",
   "execution_count": 32,
   "id": "c319baee",
   "metadata": {},
   "outputs": [
    {
     "data": {
      "text/plain": [
       "220"
      ]
     },
     "execution_count": 32,
     "metadata": {},
     "output_type": "execute_result"
    }
   ],
   "source": [
    "df3['TOTAL LEARNING MINUTES'].astype(int).sum()"
   ]
  },
  {
   "cell_type": "code",
   "execution_count": null,
   "id": "61259812",
   "metadata": {},
   "outputs": [],
   "source": [
    "password = \"\"\n",
    "email = \"\"\n",
    "infoCursos = "
   ]
  },
  {
   "cell_type": "code",
   "execution_count": null,
   "id": "929ae84c",
   "metadata": {},
   "outputs": [],
   "source": [
    "import csv\n",
    "table = driver.find_element_by_xpath('//*[@id=\"class-shell\"]/div/div[2]/div[3]/div[2]/div[3]/div/div/div/div/table').text\n",
    "heads = driver.find_element_by_xpath('//*[@id=\"class-shell\"]/div/div[2]/div[3]/div[2]/div[3]/div/div/div/div/table/thead/tr')\n",
    "with open('info.csv', 'w', newline='') as csvfile:\n",
    "    wr = csv.writer(csvfile)\n",
    "    for head in heads.find_elements_by_css_selector('tr'):\n",
    "        wr.writerow([d.text for d in row.find_elements_by_css_selector('th').getText()])\n",
    "    for row in table.find_elements_by_css_selector('tr'):\n",
    "        wr.writerow([d.text for d in row.find_elements_by_css_selector('td')])"
   ]
  },
  {
   "cell_type": "code",
   "execution_count": null,
   "id": "3ce249f5",
   "metadata": {},
   "outputs": [],
   "source": []
  },
  {
   "cell_type": "code",
   "execution_count": null,
   "id": "07bd2a5a",
   "metadata": {},
   "outputs": [],
   "source": []
  }
 ],
 "metadata": {
  "kernelspec": {
   "display_name": "Python 3 (ipykernel)",
   "language": "python",
   "name": "python3"
  },
  "language_info": {
   "codemirror_mode": {
    "name": "ipython",
    "version": 3
   },
   "file_extension": ".py",
   "mimetype": "text/x-python",
   "name": "python",
   "nbconvert_exporter": "python",
   "pygments_lexer": "ipython3",
   "version": "3.9.7"
  }
 },
 "nbformat": 4,
 "nbformat_minor": 5
}
