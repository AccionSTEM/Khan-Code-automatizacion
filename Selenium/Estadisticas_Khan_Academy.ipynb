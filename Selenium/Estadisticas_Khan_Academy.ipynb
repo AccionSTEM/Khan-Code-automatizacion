{
 "cells": [
  {
   "cell_type": "code",
   "execution_count": 18,
   "id": "49c9a78e",
   "metadata": {},
   "outputs": [],
   "source": [
    "from selenium import webdriver\n",
    "import pandas as pd\n",
    "import xlwt\n",
    "import time\n",
    "import csv\n",
    "import datetime\n",
    "from selenium.webdriver.common.keys import Keys\n",
    "from selenium.webdriver.common.by import By"
   ]
  },
  {
   "cell_type": "markdown",
   "id": "7585fadc",
   "metadata": {},
   "source": [
    "# Khan Academy -Estadisticas asociadas"
   ]
  },
  {
   "cell_type": "markdown",
   "id": "d9cddf02",
   "metadata": {},
   "source": [
    "## urls:\n",
    "https://es.khanacademy.org/teacher/class/PUFMSN2Y/overview/activity\n",
    "https://es.khanacademy.org/teacher/class/B8R2QYTZ/students\n",
    "https://es.khanacademy.org/teacher/class/SK8AVS6T/students\n",
    "https://es.khanacademy.org/teacher/class/SNFD6RAV/students\n",
    "https://es.khanacademy.org/teacher/class/HGCVH5GU/students\n",
    "https://es.khanacademy.org/teacher/class/M5NC6Q59/overview/activity\n",
    "https://es.khanacademy.org/teacher/class/8RN7Y26W/students\n",
    "https://es.khanacademy.org/teacher/class/4BDG3KYZ/students\n",
    "https://es.khanacademy.org/teacher/class/PE4HKFPJ/students\n",
    "https://es.khanacademy.org/teacher/class/FUDFPMJP/students\n",
    "https://es.khanacademy.org/teacher/class/PR8XE9NN/students\n",
    "https://es.khanacademy.org/teacher/class/KZFDPGFC/students\n",
    "https://es.khanacademy.org/teacher/class/9A52ZEQY/students\n",
    "https://es.khanacademy.org/teacher/class/WVHHCPNT/students\n",
    "https://es.khanacademy.org/teacher/class/Z5GBVS8T/settings\n",
    "https://es.khanacademy.org/teacher/class/EUX423PU/students\n",
    "https://es.khanacademy.org/teacher/class/VFQDGQ7C/students\n",
    "\n",
    "OLD_cursos = [\"SNFD6RAV\",\"B8R2QYTZ\",\"SK8AVS6T\",\"4BDG3KYZ\",\"PE4HKFPJ\",\"FUDFPMJP\",\"Z5GBVS8T\",\"VFQDGQ7C\",\"EUX423PU\"]\n"
   ]
  },
  {
   "cell_type": "code",
   "execution_count": 2,
   "id": "ab09a5db",
   "metadata": {},
   "outputs": [],
   "source": [
    "def verification(lista):\n",
    "    sum = 0\n",
    "    for i in lista:\n",
    "        for j in i:\n",
    "            if j!='0':\n",
    "                sum= sum+1\n",
    "    if (sum > 0):\n",
    "        return True\n",
    "    return False\n",
    "\n",
    "def countNonzeros(lista):\n",
    "    sum = 0\n",
    "    for i in range (0,len(lista)):\n",
    "        if lista[i] != '0':\n",
    "            sum = sum+1\n",
    "    return sum"
   ]
  },
  {
   "cell_type": "code",
   "execution_count": null,
   "id": "b7b822f5",
   "metadata": {},
   "outputs": [],
   "source": [
    "#creación dataframe estadisticas\n"
   ]
  },
  {
   "cell_type": "code",
   "execution_count": 3,
   "id": "904466c6",
   "metadata": {},
   "outputs": [
    {
     "name": "stderr",
     "output_type": "stream",
     "text": [
      "C:\\Users\\jonat\\AppData\\Local\\Temp\\ipykernel_16428\\4116202214.py:4: DeprecationWarning: executable_path has been deprecated, please pass in a Service object\n",
      "  driver = webdriver.Chrome('webdriver//chromedriver.exe')\n"
     ]
    }
   ],
   "source": [
    "#Ingresar usuario y contraseña KhanAcademy\n",
    "usr = \"\"\n",
    "psw = \"\"\n",
    "driver = webdriver.Chrome('webdriver//chromedriver.exe')"
   ]
  },
  {
   "cell_type": "code",
   "execution_count": 4,
   "id": "bb2f86f3",
   "metadata": {},
   "outputs": [
    {
     "name": "stderr",
     "output_type": "stream",
     "text": [
      "C:\\Users\\jonat\\AppData\\Local\\Temp\\ipykernel_16428\\1569311715.py:3: DeprecationWarning: find_element_by_xpath is deprecated. Please use find_element(by=By.XPATH, value=xpath) instead\n",
      "  driver.find_element_by_xpath('//*[@id=\"uid-login-form-0-wb-id-identifier-field\"]').send_keys(usr)\n",
      "C:\\Users\\jonat\\AppData\\Local\\Temp\\ipykernel_16428\\1569311715.py:4: DeprecationWarning: find_element_by_xpath is deprecated. Please use find_element(by=By.XPATH, value=xpath) instead\n",
      "  driver.find_element_by_xpath('//*[@id=\"uid-labeled-text-field-1-wb-id-field\"]').send_keys(psw)\n",
      "C:\\Users\\jonat\\AppData\\Local\\Temp\\ipykernel_16428\\1569311715.py:5: DeprecationWarning: find_element_by_xpath is deprecated. Please use find_element(by=By.XPATH, value=xpath) instead\n",
      "  driver.find_element_by_xpath('//*[@id=\"app-shell-root\"]/div/div[4]/div/div[3]/section[2]/div/div/form/button').click()\n"
     ]
    }
   ],
   "source": [
    "#Login\n",
    "driver.get(\"https://www.khanacademy.org/teacher/class/SNFD6RAV/overview/activity\")\n",
    "driver.find_element_by_xpath('//*[@id=\"uid-login-form-0-wb-id-identifier-field\"]').send_keys(usr)\n",
    "driver.find_element_by_xpath('//*[@id=\"uid-labeled-text-field-1-wb-id-field\"]').send_keys(psw)\n",
    "driver.find_element_by_xpath('//*[@id=\"app-shell-root\"]/div/div[4]/div/div[3]/section[2]/div/div/form/button').click()"
   ]
  },
  {
   "cell_type": "code",
   "execution_count": 6,
   "id": "cc2c6ff5",
   "metadata": {},
   "outputs": [],
   "source": [
    "#Codigo en loop\n",
    "#array de fechas\n",
    "meses = ['marzo','abril','mayo','junio','julio']#el ultimo es el mes actual\n",
    "dias = [31,30,30,31,22]#el ultimo valor es la fecha actual, útltimas semanas hasta hoy\n",
    "año = '2022'#el último es el valor del año actual\n",
    "fechas = []\n",
    "for j in range(len(meses)):\n",
    "    i = 1\n",
    "    while (i <dias[j]):\n",
    "        fechas.append(meses[j]+\" \"+str(i)+\", \"+año)\n",
    "        i=i+7"
   ]
  },
  {
   "cell_type": "code",
   "execution_count": 7,
   "id": "0d763441",
   "metadata": {},
   "outputs": [
    {
     "data": {
      "text/html": [
       "<div>\n",
       "<style scoped>\n",
       "    .dataframe tbody tr th:only-of-type {\n",
       "        vertical-align: middle;\n",
       "    }\n",
       "\n",
       "    .dataframe tbody tr th {\n",
       "        vertical-align: top;\n",
       "    }\n",
       "\n",
       "    .dataframe thead th {\n",
       "        text-align: right;\n",
       "    }\n",
       "</style>\n",
       "<table border=\"1\" class=\"dataframe\">\n",
       "  <thead>\n",
       "    <tr style=\"text-align: right;\">\n",
       "      <th></th>\n",
       "      <th>codigo_escuela</th>\n",
       "      <th>numero_estudiantes</th>\n",
       "      <th>fecha_script</th>\n",
       "      <th>intervalo</th>\n",
       "      <th>numero_semana</th>\n",
       "      <th>suma_minutos</th>\n",
       "      <th>skills_mejoradas</th>\n",
       "      <th>suma_skill_sin_avance</th>\n",
       "      <th>maximo_ejercicios</th>\n",
       "      <th>maximo_skills</th>\n",
       "    </tr>\n",
       "  </thead>\n",
       "  <tbody>\n",
       "  </tbody>\n",
       "</table>\n",
       "</div>"
      ],
      "text/plain": [
       "Empty DataFrame\n",
       "Columns: [codigo_escuela, numero_estudiantes, fecha_script, intervalo, numero_semana, suma_minutos, skills_mejoradas, suma_skill_sin_avance, maximo_ejercicios, maximo_skills]\n",
       "Index: []"
      ]
     },
     "execution_count": 7,
     "metadata": {},
     "output_type": "execute_result"
    }
   ],
   "source": [
    "columnas = ['codigo_escuela','numero_estudiantes','fecha_script','intervalo','numero_semana','suma_minutos','skills_mejoradas','suma_skill_sin_avance','maximo_ejercicios','maximo_skills']\n",
    "df = pd.DataFrame(columns=columnas)\n",
    "df"
   ]
  },
  {
   "cell_type": "code",
   "execution_count": 20,
   "id": "1cb968d1",
   "metadata": {},
   "outputs": [
    {
     "name": "stderr",
     "output_type": "stream",
     "text": [
      "C:\\Users\\jonat\\AppData\\Local\\Temp\\ipykernel_16428\\950333410.py:8: DeprecationWarning: find_element_by_xpath is deprecated. Please use find_element(by=By.XPATH, value=xpath) instead\n",
      "  escuela = driver.find_element_by_xpath('//*[@id=\"class-shell\"]/div/div[1]/div[1]/div[1]/div/h4').text\n",
      "C:\\Users\\jonat\\AppData\\Local\\Temp\\ipykernel_16428\\950333410.py:10: DeprecationWarning: find_element_by_xpath is deprecated. Please use find_element(by=By.XPATH, value=xpath) instead\n",
      "  driver.find_element_by_xpath('//*[@id=\"class-shell\"]/div/div[2]/div[3]/div[2]/div[1]/div/div/button').click()\n",
      "C:\\Users\\jonat\\AppData\\Local\\Temp\\ipykernel_16428\\950333410.py:11: DeprecationWarning: find_element_by_xpath is deprecated. Please use find_element(by=By.XPATH, value=xpath) instead\n",
      "  driver.find_element_by_xpath('/html/body/div[2]/div/div/div[6]').click()\n",
      "C:\\Users\\jonat\\AppData\\Local\\Temp\\ipykernel_16428\\950333410.py:12: DeprecationWarning: find_element_by_xpath is deprecated. Please use find_element(by=By.XPATH, value=xpath) instead\n",
      "  driver.find_element_by_xpath('//*[@id=\"start-date-field\"]').click()\n",
      "C:\\Users\\jonat\\AppData\\Local\\Temp\\ipykernel_16428\\950333410.py:14: DeprecationWarning: find_element_by_xpath is deprecated. Please use find_element(by=By.XPATH, value=xpath) instead\n",
      "  driver.find_element_by_xpath('//*[@id=\"start-date-field\"]').send_keys(Keys.BACKSPACE)\n",
      "C:\\Users\\jonat\\AppData\\Local\\Temp\\ipykernel_16428\\950333410.py:15: DeprecationWarning: find_element_by_xpath is deprecated. Please use find_element(by=By.XPATH, value=xpath) instead\n",
      "  driver.find_element_by_xpath('//*[@id=\"start-date-field\"]').send_keys(str(fechas[k]))\n",
      "C:\\Users\\jonat\\AppData\\Local\\Temp\\ipykernel_16428\\950333410.py:16: DeprecationWarning: find_element_by_xpath is deprecated. Please use find_element(by=By.XPATH, value=xpath) instead\n",
      "  driver.find_element_by_xpath('/html/body/div[3]/div/div/div/div/div[1]').click()\n",
      "C:\\Users\\jonat\\AppData\\Local\\Temp\\ipykernel_16428\\950333410.py:17: DeprecationWarning: find_element_by_xpath is deprecated. Please use find_element(by=By.XPATH, value=xpath) instead\n",
      "  driver.find_element_by_xpath('//*[@id=\"end-date-field\"]').click()\n",
      "C:\\Users\\jonat\\AppData\\Local\\Temp\\ipykernel_16428\\950333410.py:19: DeprecationWarning: find_element_by_xpath is deprecated. Please use find_element(by=By.XPATH, value=xpath) instead\n",
      "  driver.find_element_by_xpath('//*[@id=\"end-date-field\"]').send_keys(Keys.BACKSPACE)\n",
      "C:\\Users\\jonat\\AppData\\Local\\Temp\\ipykernel_16428\\950333410.py:20: DeprecationWarning: find_element_by_xpath is deprecated. Please use find_element(by=By.XPATH, value=xpath) instead\n",
      "  driver.find_element_by_xpath('//*[@id=\"end-date-field\"]').send_keys(str(fechas[k+1]))\n",
      "C:\\Users\\jonat\\AppData\\Local\\Temp\\ipykernel_16428\\950333410.py:21: DeprecationWarning: find_element_by_xpath is deprecated. Please use find_element(by=By.XPATH, value=xpath) instead\n",
      "  driver.find_element_by_xpath('/html/body/div[3]/div/div/div/div/div[1]').click()\n",
      "C:\\Users\\jonat\\AppData\\Local\\Temp\\ipykernel_16428\\950333410.py:22: DeprecationWarning: find_element_by_xpath is deprecated. Please use find_element(by=By.XPATH, value=xpath) instead\n",
      "  driver.find_element_by_xpath('/html/body/div[3]/div/div/div/div/div[3]/button').click()\n",
      "C:\\Users\\jonat\\AppData\\Local\\Temp\\ipykernel_16428\\950333410.py:24: DeprecationWarning: find_element_by_xpath is deprecated. Please use find_element(by=By.XPATH, value=xpath) instead\n",
      "  tipo = driver.find_element_by_xpath('//*[@id=\"class-shell\"]/div/div[2]/div[3]/div[2]/div[1]/div/div/button/span').text\n",
      "C:\\Users\\jonat\\AppData\\Local\\Temp\\ipykernel_16428\\950333410.py:26: DeprecationWarning: find_element_by_xpath is deprecated. Please use find_element(by=By.XPATH, value=xpath) instead\n",
      "  table = driver.find_element_by_xpath('//*[@id=\"class-shell\"]/div/div[2]/div[3]/div[2]/div[3]').text\n"
     ]
    },
    {
     "ename": "KeyError",
     "evalue": "'TOTAL DE MINUTOS DE APRENDIZAJE'",
     "output_type": "error",
     "traceback": [
      "\u001b[1;31m---------------------------------------------------------------------------\u001b[0m",
      "\u001b[1;31mKeyError\u001b[0m                                  Traceback (most recent call last)",
      "File \u001b[1;32m~\\anaconda3\\lib\\site-packages\\pandas\\core\\indexes\\base.py:3621\u001b[0m, in \u001b[0;36mIndex.get_loc\u001b[1;34m(self, key, method, tolerance)\u001b[0m\n\u001b[0;32m   3620\u001b[0m \u001b[38;5;28;01mtry\u001b[39;00m:\n\u001b[1;32m-> 3621\u001b[0m     \u001b[38;5;28;01mreturn\u001b[39;00m \u001b[38;5;28;43mself\u001b[39;49m\u001b[38;5;241;43m.\u001b[39;49m\u001b[43m_engine\u001b[49m\u001b[38;5;241;43m.\u001b[39;49m\u001b[43mget_loc\u001b[49m\u001b[43m(\u001b[49m\u001b[43mcasted_key\u001b[49m\u001b[43m)\u001b[49m\n\u001b[0;32m   3622\u001b[0m \u001b[38;5;28;01mexcept\u001b[39;00m \u001b[38;5;167;01mKeyError\u001b[39;00m \u001b[38;5;28;01mas\u001b[39;00m err:\n",
      "File \u001b[1;32m~\\anaconda3\\lib\\site-packages\\pandas\\_libs\\index.pyx:136\u001b[0m, in \u001b[0;36mpandas._libs.index.IndexEngine.get_loc\u001b[1;34m()\u001b[0m\n",
      "File \u001b[1;32m~\\anaconda3\\lib\\site-packages\\pandas\\_libs\\index.pyx:163\u001b[0m, in \u001b[0;36mpandas._libs.index.IndexEngine.get_loc\u001b[1;34m()\u001b[0m\n",
      "File \u001b[1;32mpandas\\_libs\\hashtable_class_helper.pxi:5198\u001b[0m, in \u001b[0;36mpandas._libs.hashtable.PyObjectHashTable.get_item\u001b[1;34m()\u001b[0m\n",
      "File \u001b[1;32mpandas\\_libs\\hashtable_class_helper.pxi:5206\u001b[0m, in \u001b[0;36mpandas._libs.hashtable.PyObjectHashTable.get_item\u001b[1;34m()\u001b[0m\n",
      "\u001b[1;31mKeyError\u001b[0m: 'TOTAL DE MINUTOS DE APRENDIZAJE'",
      "\nThe above exception was the direct cause of the following exception:\n",
      "\u001b[1;31mKeyError\u001b[0m                                  Traceback (most recent call last)",
      "Input \u001b[1;32mIn [20]\u001b[0m, in \u001b[0;36m<cell line: 5>\u001b[1;34m()\u001b[0m\n\u001b[0;32m     33\u001b[0m \u001b[38;5;28;01mfor\u001b[39;00m j \u001b[38;5;129;01min\u001b[39;00m \u001b[38;5;28mrange\u001b[39m (\u001b[38;5;241m0\u001b[39m,\u001b[38;5;28mlen\u001b[39m(output)):\n\u001b[0;32m     34\u001b[0m     df4\u001b[38;5;241m.\u001b[39mloc[j] \u001b[38;5;241m=\u001b[39m output[j]\n\u001b[1;32m---> 35\u001b[0m sumaMinutos \u001b[38;5;241m=\u001b[39m \u001b[43mdf4\u001b[49m\u001b[43m[\u001b[49m\u001b[38;5;124;43m'\u001b[39;49m\u001b[38;5;124;43mTOTAL DE MINUTOS DE APRENDIZAJE\u001b[39;49m\u001b[38;5;124;43m'\u001b[39;49m\u001b[43m]\u001b[49m\u001b[38;5;241m.\u001b[39mastype(\u001b[38;5;28mint\u001b[39m)\u001b[38;5;241m.\u001b[39msum()\n\u001b[0;32m     36\u001b[0m maxEjercicio \u001b[38;5;241m=\u001b[39m df4[\u001b[38;5;124m'\u001b[39m\u001b[38;5;124mTOTAL DE MINUTOS DE APRENDIZAJE\u001b[39m\u001b[38;5;124m'\u001b[39m]\u001b[38;5;241m.\u001b[39mmax()\n\u001b[0;32m     37\u001b[0m maxSkills \u001b[38;5;241m=\u001b[39m df4[\u001b[38;5;124m'\u001b[39m\u001b[38;5;124mHABILIDADES MEJORADAS\u001b[39m\u001b[38;5;124m'\u001b[39m]\u001b[38;5;241m.\u001b[39mmax()\n",
      "File \u001b[1;32m~\\anaconda3\\lib\\site-packages\\pandas\\core\\frame.py:3505\u001b[0m, in \u001b[0;36mDataFrame.__getitem__\u001b[1;34m(self, key)\u001b[0m\n\u001b[0;32m   3503\u001b[0m \u001b[38;5;28;01mif\u001b[39;00m \u001b[38;5;28mself\u001b[39m\u001b[38;5;241m.\u001b[39mcolumns\u001b[38;5;241m.\u001b[39mnlevels \u001b[38;5;241m>\u001b[39m \u001b[38;5;241m1\u001b[39m:\n\u001b[0;32m   3504\u001b[0m     \u001b[38;5;28;01mreturn\u001b[39;00m \u001b[38;5;28mself\u001b[39m\u001b[38;5;241m.\u001b[39m_getitem_multilevel(key)\n\u001b[1;32m-> 3505\u001b[0m indexer \u001b[38;5;241m=\u001b[39m \u001b[38;5;28;43mself\u001b[39;49m\u001b[38;5;241;43m.\u001b[39;49m\u001b[43mcolumns\u001b[49m\u001b[38;5;241;43m.\u001b[39;49m\u001b[43mget_loc\u001b[49m\u001b[43m(\u001b[49m\u001b[43mkey\u001b[49m\u001b[43m)\u001b[49m\n\u001b[0;32m   3506\u001b[0m \u001b[38;5;28;01mif\u001b[39;00m is_integer(indexer):\n\u001b[0;32m   3507\u001b[0m     indexer \u001b[38;5;241m=\u001b[39m [indexer]\n",
      "File \u001b[1;32m~\\anaconda3\\lib\\site-packages\\pandas\\core\\indexes\\base.py:3623\u001b[0m, in \u001b[0;36mIndex.get_loc\u001b[1;34m(self, key, method, tolerance)\u001b[0m\n\u001b[0;32m   3621\u001b[0m     \u001b[38;5;28;01mreturn\u001b[39;00m \u001b[38;5;28mself\u001b[39m\u001b[38;5;241m.\u001b[39m_engine\u001b[38;5;241m.\u001b[39mget_loc(casted_key)\n\u001b[0;32m   3622\u001b[0m \u001b[38;5;28;01mexcept\u001b[39;00m \u001b[38;5;167;01mKeyError\u001b[39;00m \u001b[38;5;28;01mas\u001b[39;00m err:\n\u001b[1;32m-> 3623\u001b[0m     \u001b[38;5;28;01mraise\u001b[39;00m \u001b[38;5;167;01mKeyError\u001b[39;00m(key) \u001b[38;5;28;01mfrom\u001b[39;00m \u001b[38;5;21;01merr\u001b[39;00m\n\u001b[0;32m   3624\u001b[0m \u001b[38;5;28;01mexcept\u001b[39;00m \u001b[38;5;167;01mTypeError\u001b[39;00m:\n\u001b[0;32m   3625\u001b[0m     \u001b[38;5;66;03m# If we have a listlike key, _check_indexing_error will raise\u001b[39;00m\n\u001b[0;32m   3626\u001b[0m     \u001b[38;5;66;03m#  InvalidIndexError. Otherwise we fall through and re-raise\u001b[39;00m\n\u001b[0;32m   3627\u001b[0m     \u001b[38;5;66;03m#  the TypeError.\u001b[39;00m\n\u001b[0;32m   3628\u001b[0m     \u001b[38;5;28mself\u001b[39m\u001b[38;5;241m.\u001b[39m_check_indexing_error(key)\n",
      "\u001b[1;31mKeyError\u001b[0m: 'TOTAL DE MINUTOS DE APRENDIZAJE'"
     ]
    }
   ],
   "source": [
    "#cursos = [\"SNFD6RAV\",\"B8R2QYTZ\",\"SK8AVS6T\",\"4BDG3KYZ\",\"PE4HKFPJ\",\"FUDFPMJP\",\"Z5GBVS8T\",\"VFQDGQ7C\",\"EUX423PU\"]\n",
    "#cursos = [\"FUDFPMJP\",\"Z5GBVS8T\",\"VFQDGQ7C\",\"EUX423PU\"]\n",
    "cursos = [\"PUFMSN2Y\",\"B8R2QYTZ\",\"SK8AVS6T\",\"SNFD6RAV\",\"HGCVH5GU\",\"M5NC6Q59\",\"8RN7Y26W\",\"4BDG3KYZ\",\"PE4HKFPJ\",\"FUDFPMJP\",\"PR8XE9NN\",\"KZFDPGFC\",\"9A52ZEQY\",\"WVHHCPNT\",\"Z5GBVS8T\",\"EUX423PU\",\"VFQDGQ7C\"]\n",
    "fecha = datetime.datetime.now()\n",
    "for i in cursos:\n",
    "    driver.get(\"https://www.khanacademy.org/teacher/class/\"+i+\"/overview/activity\")\n",
    "    time.sleep(4)\n",
    "    escuela = driver.find_element_by_xpath('//*[@id=\"class-shell\"]/div/div[1]/div[1]/div[1]/div/h4').text\n",
    "    for k in range(0,len(fechas)-1):\n",
    "        driver.find_element_by_xpath('//*[@id=\"class-shell\"]/div/div[2]/div[3]/div[2]/div[1]/div/div/button').click()\n",
    "        driver.find_element_by_xpath('/html/body/div[2]/div/div/div[6]').click()\n",
    "        driver.find_element_by_xpath('//*[@id=\"start-date-field\"]').click()\n",
    "        for l in range (0,30):#borrar espacios start-date-field\n",
    "            driver.find_element_by_xpath('//*[@id=\"start-date-field\"]').send_keys(Keys.BACKSPACE)\n",
    "        driver.find_element_by_xpath('//*[@id=\"start-date-field\"]').send_keys(str(fechas[k]))\n",
    "        driver.find_element_by_xpath('/html/body/div[3]/div/div/div/div/div[1]').click()\n",
    "        driver.find_element_by_xpath('//*[@id=\"end-date-field\"]').click()\n",
    "        for l in range (0,30):#borrar espacios end-date-field\n",
    "            driver.find_element_by_xpath('//*[@id=\"end-date-field\"]').send_keys(Keys.BACKSPACE)\n",
    "        driver.find_element_by_xpath('//*[@id=\"end-date-field\"]').send_keys(str(fechas[k+1]))\n",
    "        driver.find_element_by_xpath('/html/body/div[3]/div/div/div/div/div[1]').click()\n",
    "        driver.find_element_by_xpath('/html/body/div[3]/div/div/div/div/div[3]/button').click()\n",
    "        time.sleep(3)\n",
    "        tipo = driver.find_element_by_xpath('//*[@id=\"class-shell\"]/div/div[2]/div[3]/div[2]/div[1]/div/div/button/span').text\n",
    "        time.sleep(2)\n",
    "        table = driver.find_element_by_xpath('//*[@id=\"class-shell\"]/div/div[2]/div[3]/div[2]/div[3]').text\n",
    "        time.sleep(1)\n",
    "        tab = table.split(\"\\n\")\n",
    "        columnas = [tab[0],tab[1],tab[2],tab[3]]\n",
    "        df4 = pd.DataFrame(columns = columnas)\n",
    "        output=[tab[i:i + 4] for i in range(4, len(tab), 4)]\n",
    "        if verification(output) :\n",
    "            for j in range (0,len(output)):\n",
    "                df4.loc[j] = output[j]\n",
    "            sumaMinutos = df4['TOTAL DE MINUTOS DE APRENDIZAJE'].astype(int).sum()\n",
    "            maxEjercicio = df4['TOTAL DE MINUTOS DE APRENDIZAJE'].max()\n",
    "            maxSkills = df4['HABILIDADES MEJORADAS'].max()\n",
    "            sumaSkills = df4['HABILIDADES MEJORADAS'].astype(int).sum()\n",
    "            sumaWOProgress = df4['HABILIDADES SIN AVANCE'].astype(int).sum()\n",
    "            time.sleep(2)\n",
    "        else:\n",
    "            sumaMinutos = 0\n",
    "            sumaSkills = 0\n",
    "            sumaWOProgress=0\n",
    "        df=df.append({'codigo_escuela' : escuela , 'numero_estudiantes': countNonzeros(df4['TOTAL DE MINUTOS DE APRENDIZAJE']) ,'fecha_script' : fecha,'intervalo' : tipo,'numero_semana':k, 'Suma minutos': sumaMinutos,'Skills Mejoradas':sumaSkills,'Suma skills sin avance':sumaWOProgress,'Maximo ejercicios':maxEjercicio,'Maximo skills':maxSkills} , ignore_index=True)\n",
    "        time.sleep(3)\n",
    "        print(\"curso completado\"+i) \n",
    "#columnas = ['codigo_escuela','numero_estudiantes','fecha_script','intervalo','numero_semana','suma_minutos','skills_mejoradas','suma_skill_sin_avance','maximo_ejercicios','maximo_skills']"
   ]
  },
  {
   "cell_type": "code",
   "execution_count": null,
   "id": "3b7cbc0d",
   "metadata": {},
   "outputs": [],
   "source": [
    "df.to_excel(\"output.xlsx\")"
   ]
  },
  {
   "cell_type": "code",
   "execution_count": 21,
   "id": "1624df3f",
   "metadata": {},
   "outputs": [
    {
     "data": {
      "text/plain": [
       "['ESTUDIANTE',\n",
       " 'Josefa Canales',\n",
       " 'Catalina Rodriguez',\n",
       " 'Damian Osorio',\n",
       " 'Exequiel Mella',\n",
       " 'Francisca Castillo',\n",
       " 'Gamaliel Morales',\n",
       " 'NEHA VILLAR',\n",
       " 'Sebastian Mella',\n",
       " 'Tomas Sepulveda',\n",
       " 'TOTAL DE MINUTOS DE APRENDIZAJE',\n",
       " 'HABILIDADES MEJORADAS',\n",
       " 'HABILIDADES SIN AVANCE',\n",
       " '0',\n",
       " '0',\n",
       " '0',\n",
       " '0',\n",
       " '0',\n",
       " '0',\n",
       " '0',\n",
       " '0',\n",
       " '0',\n",
       " '0',\n",
       " '0',\n",
       " '0',\n",
       " '0',\n",
       " '0',\n",
       " '0',\n",
       " '0',\n",
       " '0',\n",
       " '0',\n",
       " '0',\n",
       " '0',\n",
       " '0',\n",
       " '0',\n",
       " '0',\n",
       " '0',\n",
       " '0',\n",
       " '0',\n",
       " '0']"
      ]
     },
     "execution_count": 21,
     "metadata": {},
     "output_type": "execute_result"
    }
   ],
   "source": [
    "tab"
   ]
  },
  {
   "cell_type": "code",
   "execution_count": null,
   "id": "cb417b17",
   "metadata": {},
   "outputs": [],
   "source": [
    "## script 7 días\n",
    "fecha = datetime.datetime.now()\n",
    "for i in cursos:\n",
    "    driver.get(\"https://www.khanacademy.org/teacher/class/\"+i+\"/overview/activity\")\n",
    "    time.sleep(6)\n",
    "    escuela = driver.find_element_by_xpath('//*[@id=\"class-shell\"]/div/div[1]/div[1]/div[1]/div/h4').text\n",
    "    tipo = driver.find_element_by_xpath('//*[@id=\"class-shell\"]/div/div[2]/div[3]/div[2]/div[1]/div/div/button/span').text\n",
    "    time.sleep(2)\n",
    "    table = driver.find_element_by_xpath('//*[@id=\"class-shell\"]/div/div[2]/div[3]/div[2]/div[3]/div/div').text\n",
    "    tab = table.split(\"\\n\")\n",
    "    columnas = [tab[0],tab[1],tab[2],tab[3]]\n",
    "    df4 = pd.DataFrame(columns = columnas)\n",
    "    output=[tab[i:i + 4] for i in range(4, len(tab), 4)]\n",
    "    if verification(output) :\n",
    "        for j in range (0,len(output)):\n",
    "            df4.loc[j] = output[j]\n",
    "        sumaMinutos = df4['TOTAL DE MINUTOS DE APRENDIZAJE'].astype(int).sum()\n",
    "        sumaSkills = df4['HABILIDADES MEJORADAS'].astype(int).sum()\n",
    "        sumaWOProgress = df4['HABILIDADES SIN AVANCE'].astype(int).sum()\n",
    "        time.sleep(2)\n",
    "    else:\n",
    "        sumaMinutos = 0\n",
    "        sumaSkills = 0\n",
    "        sumaWOProgress=0\n",
    "    df=df.append({'Código Escuela' : escuela ,'Fecha Script' : fecha, 'Intervalo' : tipo, 'Suma minutos': sumaMinutos,'Skills Mejoradas':sumaSkills,'Progreso y habilidades':sumaWOProgress} , ignore_index=True)\n",
    "    time.sleep(3)"
   ]
  },
  {
   "cell_type": "code",
   "execution_count": null,
   "id": "a7110772",
   "metadata": {},
   "outputs": [],
   "source": [
    "#Codigo simple\n",
    "driver.find_element_by_xpath('//*[@id=\"class-shell\"]/div/div[2]/div[3]/div[2]/div[1]/div/div/button').click()\n",
    "driver.find_element_by_xpath('/html/body/div[2]/div/div/div[5]').click()\n",
    "driver.find_element_by_xpath('//*[@id=\"start-date-field\"]').click()\n",
    "for j in range (0,30):\n",
    "    driver.find_element_by_xpath('//*[@id=\"start-date-field\"]').send_keys(Keys.BACKSPACE)\n",
    "driver.find_element_by_xpath('//*[@id=\"start-date-field\"]').send_keys(str(fechas[1]))\n",
    "driver.find_element_by_xpath('/html/body/div[3]/div/div/div/div/div[1]').click()\n",
    "driver.find_element_by_xpath('//*[@id=\"end-date-field\"]').click()\n",
    "for j in range (0,30):\n",
    "    driver.find_element_by_xpath('//*[@id=\"end-date-field\"]').send_keys(Keys.BACKSPACE)\n",
    "driver.find_element_by_xpath('//*[@id=\"end-date-field\"]').send_keys(str(fechas[2]))\n",
    "driver.find_element_by_xpath('/html/body/div[3]/div/div/div/div/div[1]').click()\n",
    "driver.find_element_by_xpath('/html/body/div[3]/div/div/div/div/div[3]/button').click()"
   ]
  },
  {
   "cell_type": "code",
   "execution_count": null,
   "id": "b3a42387",
   "metadata": {},
   "outputs": [],
   "source": [
    "#rango personalizado\n",
    "df\n",
    "//*[@id=\"class-shell\"]/div/div[2]/div[3]/div[2]/div[1]/div/div/button ## select\n",
    "/html/body/div[2]/div/div/div[5] #select fecha \n",
    "//*[@id=\"start-date-field\"] #insertar día inicio formato : junio 5, 2022\n",
    "//*[@id=\"end-date-field\"] #insertar día fin\n",
    "/html/body/div[2]/div/div/div[5]"
   ]
  }
 ],
 "metadata": {
  "kernelspec": {
   "display_name": "Python 3 (ipykernel)",
   "language": "python",
   "name": "python3"
  },
  "language_info": {
   "codemirror_mode": {
    "name": "ipython",
    "version": 3
   },
   "file_extension": ".py",
   "mimetype": "text/x-python",
   "name": "python",
   "nbconvert_exporter": "python",
   "pygments_lexer": "ipython3",
   "version": "3.9.12"
  }
 },
 "nbformat": 4,
 "nbformat_minor": 5
}
