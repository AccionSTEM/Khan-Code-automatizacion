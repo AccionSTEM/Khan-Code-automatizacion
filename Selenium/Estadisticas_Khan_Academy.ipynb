{
 "cells": [
  {
   "cell_type": "code",
   "execution_count": 3,
   "id": "49c9a78e",
   "metadata": {},
   "outputs": [],
   "source": [
    "from selenium import webdriver\n",
    "import pandas as pd\n",
    "import xlwt\n",
    "import time\n",
    "import csv\n",
    "import datetime"
   ]
  },
  {
   "cell_type": "markdown",
   "id": "7585fadc",
   "metadata": {},
   "source": [
    "# Khan Academy -Estadisticas asociadas"
   ]
  },
  {
   "cell_type": "markdown",
   "id": "d9cddf02",
   "metadata": {},
   "source": [
    "## urls:\n",
    "- https://www.khanacademy.org/teacher/class/B8R2QYTZ/overview/activity\n",
    "- https://www.khanacademy.org/teacher/class/SK8AVS6T/overview/activity\n",
    "- https://www.khanacademy.org/teacher/class/SNFD6RAV/overview/activity\n",
    "- https://www.khanacademy.org/teacher/class/4BDG3KYZ/overview/activity\n",
    "- https://www.khanacademy.org/teacher/class/PE4HKFPJ/overview/activity\n",
    "- https://www.khanacademy.org/teacher/class/FUDFPMJP/overview/activity\n",
    "- https://www.khanacademy.org/teacher/class/FUDFPMJP/overview/activity\n",
    "- https://www.khanacademy.org/teacher/class/Z5GBVS8T/overview/activity\n",
    "- https://www.khanacademy.org/teacher/class/VFQDGQ7C/overview/activity\n",
    "- https://www.khanacademy.org/teacher/class/EUX423PU/overview/activity"
   ]
  },
  {
   "cell_type": "code",
   "execution_count": 1,
   "id": "ab09a5db",
   "metadata": {},
   "outputs": [],
   "source": [
    "def verification(lista):\n",
    "    sum = 0\n",
    "    for i in lista:\n",
    "        for j in i:\n",
    "            if j!='0':\n",
    "                sum= sum+1\n",
    "    if (sum > 0):\n",
    "        return True\n",
    "    return False"
   ]
  },
  {
   "cell_type": "code",
   "execution_count": 5,
   "id": "b7b822f5",
   "metadata": {},
   "outputs": [
    {
     "data": {
      "text/html": [
       "<div>\n",
       "<style scoped>\n",
       "    .dataframe tbody tr th:only-of-type {\n",
       "        vertical-align: middle;\n",
       "    }\n",
       "\n",
       "    .dataframe tbody tr th {\n",
       "        vertical-align: top;\n",
       "    }\n",
       "\n",
       "    .dataframe thead th {\n",
       "        text-align: right;\n",
       "    }\n",
       "</style>\n",
       "<table border=\"1\" class=\"dataframe\">\n",
       "  <thead>\n",
       "    <tr style=\"text-align: right;\">\n",
       "      <th></th>\n",
       "      <th>Código Escuela</th>\n",
       "      <th>Fecha Script</th>\n",
       "      <th>Intervalo</th>\n",
       "      <th>Suma minutos</th>\n",
       "      <th>Skills Mejoradas</th>\n",
       "      <th>Suma skills sin avance</th>\n",
       "    </tr>\n",
       "  </thead>\n",
       "  <tbody>\n",
       "  </tbody>\n",
       "</table>\n",
       "</div>"
      ],
      "text/plain": [
       "Empty DataFrame\n",
       "Columns: [Código Escuela, Fecha Script, Intervalo, Suma minutos, Skills Mejoradas, Suma skills sin avance]\n",
       "Index: []"
      ]
     },
     "execution_count": 5,
     "metadata": {},
     "output_type": "execute_result"
    }
   ],
   "source": [
    "#dataframe estadisticas\n",
    "columnas = ['Código Escuela','Fecha Script','Intervalo','Suma minutos','Skills Mejoradas','Suma skills sin avance']\n",
    "df = pd.DataFrame(columns=columnas)\n",
    "df"
   ]
  },
  {
   "cell_type": "code",
   "execution_count": 6,
   "id": "904466c6",
   "metadata": {},
   "outputs": [],
   "source": [
    "#Ingresar usuario y contraseña KhanAcademy\n",
    "usr = \"\"\n",
    "psw = \"\""
   ]
  },
  {
   "cell_type": "code",
   "execution_count": null,
   "id": "bb2f86f3",
   "metadata": {},
   "outputs": [],
   "source": [
    "driver = webdriver.Chrome('webdriver//chromedriver.exe')\n",
    "driver.get(\"https://www.khanacademy.org/teacher/class/SNFD6RAV/overview/activity\")\n",
    "driver.find_element_by_xpath('//*[@id=\"uid-login-form-0-wb-id-identifier-field\"]').send_keys(usr)\n",
    "driver.find_element_by_xpath('//*[@id=\"uid-labeled-text-field-1-wb-id-field\"]').send_keys(psw)\n",
    "driver.find_element_by_xpath('//*[@id=\"app-shell-root\"]/div/div[4]/div/div[3]/section[2]/div/div/form/button').click()"
   ]
  },
  {
   "cell_type": "code",
   "execution_count": null,
   "id": "cb417b17",
   "metadata": {},
   "outputs": [],
   "source": [
    "## script 7 días\n",
    "cursos = [\"SNFD6RAV\",\"B8R2QYTZ\",\"SK8AVS6T\",\"4BDG3KYZ\",\"PE4HKFPJ\",\"FUDFPMJP\",\"FUDFPMJP\",\"Z5GBVS8T\",\"VFQDGQ7C\",\"EUX423PU\"]\n",
    "fecha = datetime.datetime.now()\n",
    "for i in cursos:\n",
    "    driver.get(\"https://www.khanacademy.org/teacher/class/\"+i+\"/overview/activity\")\n",
    "    time.sleep(6)\n",
    "    escuela = driver.find_element_by_xpath('//*[@id=\"class-shell\"]/div/div[1]/div[1]/div[1]/div/h4').text\n",
    "    tipo = driver.find_element_by_xpath('//*[@id=\"class-shell\"]/div/div[2]/div[3]/div[2]/div[1]/div/div/button/span').text\n",
    "    time.sleep(2)\n",
    "    table = driver.find_element_by_xpath('//*[@id=\"class-shell\"]/div/div[2]/div[3]/div[2]/div[3]/div/div').text\n",
    "    tab = table.split(\"\\n\")\n",
    "    columnas = [tab[0],tab[1],tab[2],tab[3]]\n",
    "    df4 = pd.DataFrame(columns = columnas)\n",
    "    \n",
    "    output=[tab[i:i + 4] for i in range(4, len(tab), 4)]\n",
    "    if verification(output) :\n",
    "        for j in range (0,len(output)):\n",
    "            df4.loc[j] = output[j]\n",
    "        sumaMinutos = df4['TOTAL DE MINUTOS DE APRENDIZAJE'].astype(int).sum()\n",
    "        sumaSkills = df4['HABILIDADES MEJORADAS'].astype(int).sum()\n",
    "        sumaWOProgress = df4['HABILIDADES SIN AVANCE'].astype(int).sum()\n",
    "        time.sleep(2)\n",
    "    else:\n",
    "        sumaMinutos = 0\n",
    "        sumaSkills = 0\n",
    "        sumaWOProgress=0\n",
    "    df=df.append({'Código Escuela' : escuela , 'Fecha Script' : fecha, 'Intervalo' : tipo, 'Suma minutos': sumaMinutos,'Skills Mejoradas':sumaSkills,'Progreso y habilidades':sumaWOProgress} , ignore_index=True)\n",
    "    time.sleep(3)"
   ]
  },
  {
   "cell_type": "code",
   "execution_count": null,
   "id": "b3a42387",
   "metadata": {},
   "outputs": [],
   "source": [
    "df"
   ]
  }
 ],
 "metadata": {
  "kernelspec": {
   "display_name": "Python 3 (ipykernel)",
   "language": "python",
   "name": "python3"
  },
  "language_info": {
   "codemirror_mode": {
    "name": "ipython",
    "version": 3
   },
   "file_extension": ".py",
   "mimetype": "text/x-python",
   "name": "python",
   "nbconvert_exporter": "python",
   "pygments_lexer": "ipython3",
   "version": "3.9.7"
  }
 },
 "nbformat": 4,
 "nbformat_minor": 5
}
