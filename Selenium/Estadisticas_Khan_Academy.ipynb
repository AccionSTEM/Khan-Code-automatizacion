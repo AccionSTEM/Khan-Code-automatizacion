{
 "cells": [
  {
   "cell_type": "code",
   "execution_count": null,
   "id": "49c9a78e",
   "metadata": {},
   "outputs": [],
   "source": [
    "from selenium import webdriver\n",
    "import pandas as pd\n",
    "import xlwt\n",
    "import time\n",
    "import csv\n",
    "import datetime\n",
    "from selenium.webdriver.common.keys import Keys\n",
    "from selenium.webdriver.common.by import By\n",
    "from dotenv import load_dotenv"
   ]
  },
  {
   "cell_type": "markdown",
   "id": "7585fadc",
   "metadata": {},
   "source": [
    "# Khan Academy -Estadisticas asociadas"
   ]
  },
  {
   "cell_type": "markdown",
   "id": "d9cddf02",
   "metadata": {},
   "source": [
    "## urls:\n",
    "https://es.khanacademy.org/teacher/class/PUFMSN2Y/overview/activity\n",
    "https://es.khanacademy.org/teacher/class/B8R2QYTZ/students\n",
    "https://es.khanacademy.org/teacher/class/SK8AVS6T/students\n",
    "https://es.khanacademy.org/teacher/class/SNFD6RAV/students\n",
    "https://es.khanacademy.org/teacher/class/HGCVH5GU/students\n",
    "https://es.khanacademy.org/teacher/class/M5NC6Q59/overview/activity\n",
    "https://es.khanacademy.org/teacher/class/8RN7Y26W/students\n",
    "https://es.khanacademy.org/teacher/class/4BDG3KYZ/students\n",
    "https://es.khanacademy.org/teacher/class/PE4HKFPJ/students\n",
    "https://es.khanacademy.org/teacher/class/FUDFPMJP/students\n",
    "https://es.khanacademy.org/teacher/class/PR8XE9NN/students\n",
    "https://es.khanacademy.org/teacher/class/KZFDPGFC/students\n",
    "https://es.khanacademy.org/teacher/class/9A52ZEQY/students\n",
    "https://es.khanacademy.org/teacher/class/WVHHCPNT/students\n",
    "https://es.khanacademy.org/teacher/class/Z5GBVS8T/settings\n",
    "https://es.khanacademy.org/teacher/class/EUX423PU/students\n",
    "https://es.khanacademy.org/teacher/class/VFQDGQ7C/students\n",
    "\n",
    "OLD_cursos = [\"SNFD6RAV\",\"B8R2QYTZ\",\"SK8AVS6T\",\"4BDG3KYZ\",\"PE4HKFPJ\",\"FUDFPMJP\",\"Z5GBVS8T\",\"VFQDGQ7C\",\"EUX423PU\"]\n"
   ]
  },
  {
   "cell_type": "code",
   "execution_count": null,
   "id": "ab09a5db",
   "metadata": {},
   "outputs": [],
   "source": [
    "def verification(lista):\n",
    "    sum = 0\n",
    "    for i in lista:\n",
    "        for j in i:\n",
    "            if j!='0':\n",
    "                sum= sum+1\n",
    "    if (sum > 0):\n",
    "        return True\n",
    "    return False\n",
    "\n",
    "def countNonzeros(lista):\n",
    "    sum = 0\n",
    "    for i in range (0,len(lista)):\n",
    "        if lista[i] != '0':\n",
    "            sum = sum+1\n",
    "    return sum"
   ]
  },
  {
   "cell_type": "code",
   "execution_count": null,
   "id": "b7b822f5",
   "metadata": {},
   "outputs": [],
   "source": [
    "#creación dataframe estadisticas\n"
   ]
  },
  {
   "cell_type": "code",
   "execution_count": null,
   "id": "904466c6",
   "metadata": {},
   "outputs": [],
   "source": [
    "#Ingresar usuario y contraseña KhanAcademy\n",
    "usr = os.getenv('KHAN_EMAIL')\n",
    "psw = os.getenv('KHAN_PASSWORD')\n",
    "\n",
    "driver = webdriver.Chrome('webdriver//chromedriver.exe')"
   ]
  },
  {
   "cell_type": "code",
   "execution_count": null,
   "id": "bb2f86f3",
   "metadata": {},
   "outputs": [],
   "source": [
    "#Login\n",
    "driver.get(\"https://www.khanacademy.org/teacher/class/SNFD6RAV/overview/activity\")\n",
    "driver.find_element_by_xpath('//*[@id=\"uid-login-form-0-wb-id-identifier-field\"]').send_keys(usr)\n",
    "driver.find_element_by_xpath('//*[@id=\"uid-labeled-text-field-1-wb-id-field\"]').send_keys(psw)\n",
    "driver.find_element_by_xpath('//*[@id=\"app-shell-root\"]/div/div[4]/div/div[3]/section[2]/div/div/form/button').click()"
   ]
  },
  {
   "cell_type": "code",
   "execution_count": null,
   "id": "cc2c6ff5",
   "metadata": {},
   "outputs": [],
   "source": [
    "#Codigo en loop\n",
    "#array de fechas\n",
    "meses = ['marzo','abril','mayo','junio','julio']#el ultimo es el mes actual\n",
    "dias = [31,30,30,31,22]#el ultimo valor es la fecha actual, útltimas semanas hasta hoy\n",
    "año = '2022'#el último es el valor del año actual\n",
    "fechas = []\n",
    "for j in range(len(meses)):\n",
    "    i = 1\n",
    "    while (i <dias[j]):\n",
    "        fechas.append(meses[j]+\" \"+str(i)+\", \"+año)\n",
    "        i=i+7"
   ]
  },
  {
   "cell_type": "code",
   "execution_count": null,
   "id": "0d763441",
   "metadata": {},
   "outputs": [],
   "source": [
    "columnas = ['codigo_escuela','numero_estudiantes','fecha_script','intervalo','numero_semana','suma_minutos','skills_mejoradas','suma_skill_sin_avance','maximo_ejercicios','maximo_skills']\n",
    "df = pd.DataFrame(columns=columnas)\n",
    "df"
   ]
  },
  {
   "cell_type": "code",
   "execution_count": null,
   "id": "1cb968d1",
   "metadata": {
    "scrolled": false
   },
   "outputs": [],
   "source": [
    "#cursos = [\"SNFD6RAV\",\"B8R2QYTZ\",\"SK8AVS6T\",\"4BDG3KYZ\",\"PE4HKFPJ\",\"FUDFPMJP\",\"Z5GBVS8T\",\"VFQDGQ7C\",\"EUX423PU\"]\n",
    "#cursos = [\"FUDFPMJP\",\"Z5GBVS8T\",\"VFQDGQ7C\",\"EUX423PU\"]\n",
    "#cursos = [\"PUFMSN2Y\",\"B8R2QYTZ\",\"SK8AVS6T\",\"SNFD6RAV\",\"HGCVH5GU\",\"M5NC6Q59\",\"8RN7Y26W\",\"4BDG3KYZ\",\"PE4HKFPJ\",\"FUDFPMJP\",\"PR8XE9NN\",\"KZFDPGFC\",\"9A52ZEQY\",\"WVHHCPNT\",\"Z5GBVS8T\",\"EUX423PU\",\"VFQDGQ7C\"]\n",
    "cursos = [\"PE4HKFPJ\",\"FUDFPMJP\",\"PR8XE9NN\",\"Z5GBVS8T\",\"EUX423PU\",\"VFQDGQ7C\"]\n",
    "table = []\n",
    "#stand_by : \n",
    "fecha = datetime.datetime.now()\n",
    "#cursos = [\"FUDFPMJP\",\"PR8XE9NN\",\"KZFDPGFC\",\"9A52ZEQY\",\"WVHHCPNT\",\"Z5GBVS8T\",\"EUX423PU\",\"VFQDGQ7C\"]\n",
    "#cursos = [\"PUFMSN2Y\"]\n",
    "for i in cursos:\n",
    "    driver.get(\"https://www.khanacademy.org/teacher/class/\"+i+\"/overview/activity\")\n",
    "    time.sleep(5)\n",
    "    escuela = driver.find_element_by_xpath('//*[@id=\"class-shell\"]/div/div[1]/div[1]/div[1]/div/h4').text\n",
    "    for k in range(0,len(fechas)-1):\n",
    "        driver.find_element_by_xpath('//*[@id=\"class-shell\"]/div/div[2]/div[3]/div[2]/div[1]/div/div/button').click()\n",
    "        driver.find_element_by_xpath('/html/body/div[2]/div/div/div[6]').click()\n",
    "        time.sleep(1)\n",
    "        driver.find_element_by_xpath('//*[@id=\"start-date-field\"]').click()\n",
    "        for l in range (0,30):#borrar espacios start-date-field\n",
    "            driver.find_element_by_xpath('//*[@id=\"start-date-field\"]').send_keys(Keys.BACKSPACE)\n",
    "        driver.find_element_by_xpath('//*[@id=\"start-date-field\"]').send_keys(str(fechas[k]))\n",
    "        driver.find_element_by_xpath('/html/body/div[3]/div/div/div/div/div[1]').click()\n",
    "        driver.find_element_by_xpath('//*[@id=\"end-date-field\"]').click()\n",
    "        for l in range (0,30):#borrar espacios end-date-field\n",
    "            driver.find_element_by_xpath('//*[@id=\"end-date-field\"]').send_keys(Keys.BACKSPACE)\n",
    "        driver.find_element_by_xpath('//*[@id=\"end-date-field\"]').send_keys(str(fechas[k+1]))\n",
    "        driver.find_element_by_xpath('/html/body/div[3]/div/div/div/div/div[1]').click()\n",
    "        driver.find_element_by_xpath('/html/body/div[3]/div/div/div/div/div[3]/button').click()\n",
    "        time.sleep(3)\n",
    "        tipo = driver.find_element_by_xpath('//*[@id=\"class-shell\"]/div/div[2]/div[3]/div[2]/div[1]/div/div/button/span').text\n",
    "        time.sleep(1)\n",
    "        table = driver.find_element_by_xpath('//*[@id=\"class-shell\"]/div/div[2]/div[3]/div[2]/div[3]/div/div').text\n",
    "        tab = table.split(\"\\n\")\n",
    "        columnas = [tab[0],tab[1],tab[2],tab[3]]\n",
    "        df4 = pd.DataFrame(columns = columnas)\n",
    "        output=[tab[i:i + 4] for i in range(4, len(tab), 4)]\n",
    "        if verification(output) :\n",
    "            for j in range (0,len(output)):\n",
    "                df4.loc[j] = output[j]\n",
    "            sumaMinutos = df4['TOTAL DE MINUTOS DE APRENDIZAJE'].astype(int).sum()\n",
    "            maxEjercicio = df4['TOTAL DE MINUTOS DE APRENDIZAJE'].max()\n",
    "            maxSkills = df4['HABILIDADES MEJORADAS'].max()\n",
    "            sumaSkills = df4['HABILIDADES MEJORADAS'].astype(int).sum()\n",
    "            sumaWOProgress = df4['HABILIDADES SIN AVANCE'].astype(int).sum()\n",
    "            time.sleep(2)\n",
    "        else:\n",
    "            sumaMinutos = 0\n",
    "            sumaSkills = 0\n",
    "            sumaWOProgress=0\n",
    "        df=df.append({'codigo_escuela' : escuela , 'numero_estudiantes': countNonzeros(df4['TOTAL DE MINUTOS DE APRENDIZAJE']) ,'fecha_script' : fecha,'intervalo' : tipo,'numero_semana':k+1, 'suma_minutos': sumaMinutos,'skills_mejoradas':sumaSkills,'suma_skill_sin_avance':sumaWOProgress,'maximo_ejercicios':maxEjercicio,'maximo_skills':maxSkills} , ignore_index=True)\n",
    "        \n",
    "        print(\"código completado: \"+str(escuela)+\", codigo: \"+str(i)+\", Semana:\"+str(k)) \n",
    "#columnas = ['codigo_escuela','numero_estudiantes','fecha_script','intervalo','numero_semana','suma_minutos','skills_mejoradas','suma_skill_sin_avance','maximo_ejercicios','maximo_skills']"
   ]
  },
  {
   "cell_type": "code",
   "execution_count": null,
   "id": "949eb4fa",
   "metadata": {},
   "outputs": [],
   "source": [
    "table"
   ]
  },
  {
   "cell_type": "code",
   "execution_count": null,
   "id": "338c1591",
   "metadata": {},
   "outputs": [],
   "source": [
    "df.to_excel(\"output_23072022.xlsx\")"
   ]
  },
  {
   "cell_type": "code",
   "execution_count": null,
   "id": "5df6f5b2",
   "metadata": {},
   "outputs": [],
   "source": [
    "df=df1"
   ]
  },
  {
   "cell_type": "code",
   "execution_count": null,
   "id": "1624df3f",
   "metadata": {},
   "outputs": [],
   "source": [
    "df1 = df"
   ]
  },
  {
   "cell_type": "code",
   "execution_count": null,
   "id": "bd5fb3e2",
   "metadata": {
    "scrolled": false
   },
   "outputs": [],
   "source": [
    "df.head(170)"
   ]
  },
  {
   "cell_type": "code",
   "execution_count": null,
   "id": "cb417b17",
   "metadata": {},
   "outputs": [],
   "source": [
    "## script 7 días\n",
    "fecha = datetime.datetime.now()\n",
    "for i in cursos:\n",
    "    driver.get(\"https://www.khanacademy.org/teacher/class/\"+i+\"/overview/activity\")\n",
    "    time.sleep(6)\n",
    "    escuela = driver.find_element_by_xpath('//*[@id=\"class-shell\"]/div/div[1]/div[1]/div[1]/div/h4').text\n",
    "    tipo = driver.find_element_by_xpath('//*[@id=\"class-shell\"]/div/div[2]/div[3]/div[2]/div[1]/div/div/button/span').text\n",
    "    time.sleep(2)\n",
    "    table = driver.find_element_by_xpath('//*[@id=\"class-shell\"]/div/div[2]/div[3]/div[2]/div[3]/div/div').text\n",
    "    tab = table.split(\"\\n\")\n",
    "    columnas = [tab[0],tab[1],tab[2],tab[3]]\n",
    "    df4 = pd.DataFrame(columns = columnas)\n",
    "    output=[tab[i:i + 4] for i in range(4, len(tab), 4)]\n",
    "    if verification(output) :\n",
    "        for j in range (0,len(output)):\n",
    "            df4.loc[j] = output[j]\n",
    "        sumaMinutos = df4['TOTAL DE MINUTOS DE APRENDIZAJE'].astype(int).sum()\n",
    "        sumaSkills = df4['HABILIDADES MEJORADAS'].astype(int).sum()\n",
    "        sumaWOProgress = df4['HABILIDADES SIN AVANCE'].astype(int).sum()\n",
    "        time.sleep(2)\n",
    "    else:\n",
    "        sumaMinutos = 0\n",
    "        sumaSkills = 0\n",
    "        sumaWOProgress=0\n",
    "    df=df.append({'Código Escuela' : escuela ,'Fecha Script' : fecha, 'Intervalo' : tipo, 'Suma minutos': sumaMinutos,'Skills Mejoradas':sumaSkills,'Progreso y habilidades':sumaWOProgress} , ignore_index=True)\n",
    "    time.sleep(3)"
   ]
  },
  {
   "cell_type": "code",
   "execution_count": null,
   "id": "a7110772",
   "metadata": {},
   "outputs": [],
   "source": [
    "#Codigo simple\n",
    "driver.find_element_by_xpath('//*[@id=\"class-shell\"]/div/div[2]/div[3]/div[2]/div[1]/div/div/button').click()\n",
    "driver.find_element_by_xpath('/html/body/div[2]/div/div/div[5]').click()\n",
    "driver.find_element_by_xpath('//*[@id=\"start-date-field\"]').click()\n",
    "for j in range (0,30):\n",
    "    driver.find_element_by_xpath('//*[@id=\"start-date-field\"]').send_keys(Keys.BACKSPACE)\n",
    "driver.find_element_by_xpath('//*[@id=\"start-date-field\"]').send_keys(str(fechas[1]))\n",
    "driver.find_element_by_xpath('/html/body/div[3]/div/div/div/div/div[1]').click()\n",
    "driver.find_element_by_xpath('//*[@id=\"end-date-field\"]').click()\n",
    "for j in range (0,30):\n",
    "    driver.find_element_by_xpath('//*[@id=\"end-date-field\"]').send_keys(Keys.BACKSPACE)\n",
    "driver.find_element_by_xpath('//*[@id=\"end-date-field\"]').send_keys(str(fechas[2]))\n",
    "driver.find_element_by_xpath('/html/body/div[3]/div/div/div/div/div[1]').click()\n",
    "driver.find_element_by_xpath('/html/body/div[3]/div/div/div/div/div[3]/button').click()"
   ]
  },
  {
   "cell_type": "code",
   "execution_count": null,
   "id": "b3a42387",
   "metadata": {},
   "outputs": [],
   "source": [
    "#rango personalizado\n",
    "df\n",
    "//*[@id=\"class-shell\"]/div/div[2]/div[3]/div[2]/div[1]/div/div/button ## select\n",
    "/html/body/div[2]/div/div/div[5] #select fecha \n",
    "//*[@id=\"start-date-field\"] #insertar día inicio formato : junio 5, 2022\n",
    "//*[@id=\"end-date-field\"] #insertar día fin\n",
    "/html/body/div[2]/div/div/div[5]"
   ]
  }
 ],
 "metadata": {
  "kernelspec": {
   "display_name": "Python 3.9.13 64-bit (windows store)",
   "language": "python",
   "name": "python3"
  },
  "language_info": {
   "codemirror_mode": {
    "name": "ipython",
    "version": 3
   },
   "file_extension": ".py",
   "mimetype": "text/x-python",
   "name": "python",
   "nbconvert_exporter": "python",
   "pygments_lexer": "ipython3",
   "version": "3.9.13"
  },
  "vscode": {
   "interpreter": {
    "hash": "61353369d0b3b3a3144ddd818ca0f373af58956ae49fc5413563dfae05a6cee9"
   }
  }
 },
 "nbformat": 4,
 "nbformat_minor": 5
}
